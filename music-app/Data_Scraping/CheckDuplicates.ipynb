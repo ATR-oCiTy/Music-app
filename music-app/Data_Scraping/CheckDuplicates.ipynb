{
  "nbformat": 4,
  "nbformat_minor": 0,
  "metadata": {
    "kernelspec": {
      "display_name": "Python 3",
      "language": "python",
      "name": "python3"
    },
    "language_info": {
      "codemirror_mode": {
        "name": "ipython",
        "version": 3
      },
      "file_extension": ".py",
      "mimetype": "text/x-python",
      "name": "python",
      "nbconvert_exporter": "python",
      "pygments_lexer": "ipython3",
      "version": "3.6.10"
    },
    "colab": {
      "name": "CheckDuplicates.ipynb",
      "provenance": []
    }
  },
  "cells": [
    {
      "cell_type": "code",
      "metadata": {
        "id": "_ZZuiC_MxYiZ",
        "colab_type": "code",
        "colab": {}
      },
      "source": [
        "import pandas as pd\n",
        "import json"
      ],
      "execution_count": null,
      "outputs": []
    },
    {
      "cell_type": "code",
      "metadata": {
        "id": "37cR-bdOxYic",
        "colab_type": "code",
        "colab": {}
      },
      "source": [
        "def parse_new_songs(new_songs):\n",
        "\n",
        "    \"\"\"\n",
        "    Function to load in secondary source tr\n",
        "\n",
        "    Arguments:\n",
        "        1) new_songs(json): New songs which is to be merged\n",
        "                           with the already scraped songs\n",
        "\n",
        "    Returns:\n",
        "        A dataframe\n",
        "    \"\"\"\n",
        "\n",
        "    with open(new_songs) as file:\n",
        "        new = json.load(file)\n",
        "    return pd.DataFrame(new)"
      ],
      "execution_count": null,
      "outputs": []
    },
    {
      "cell_type": "code",
      "metadata": {
        "id": "36VepBp-xYie",
        "colab_type": "code",
        "colab": {}
      },
      "source": [
        "def parse_csv(old_songs):\n",
        "\n",
        "    \"\"\"\n",
        "    Function to load in the old songs\n",
        "\n",
        "    Arguments:\n",
        "          1) old_songs(csv): Old songs scraped from the Spotify API\n",
        "\n",
        "    Returns:\n",
        "          A dataframe\n",
        "    \"\"\"\n",
        "\n",
        "    df = pd.read_csv(old_songs)\n",
        "    return df.drop(labels=[\"Unnamed: 0\", \"Lyrics\"], axis=1)"
      ],
      "execution_count": null,
      "outputs": []
    },
    {
      "cell_type": "code",
      "metadata": {
        "id": "191V1e14xYih",
        "colab_type": "code",
        "colab": {}
      },
      "source": [
        "def drop_duplicates(new, old):\n",
        "    \"\"\"\n",
        "     A function which iterates through new song list\n",
        "     and removes duplicates if already present in original\n",
        "\n",
        "     Arguments:\n",
        "         1) new (DataFrame) : Consists of the new songs to be added\n",
        "         2) old (DataFrame) : Old songs which is to be compared with the \n",
        "                              new songs\n",
        "     \"\"\"\n",
        "\n",
        "    for i in new.itertuples():\n",
        "        if i.song in [i for i in old.Song]:\n",
        "            new.drop(labels=i.Index, inplace=True)\n",
        "    return new"
      ],
      "execution_count": null,
      "outputs": []
    },
    {
      "cell_type": "code",
      "metadata": {
        "id": "gl_A95aAxYij",
        "colab_type": "code",
        "colab": {}
      },
      "source": [
        "def write_csv(df, new_no_dupe_addr):\n",
        "    df.to_csv(new_no_dupe_addr, mode='a', header=False)"
      ],
      "execution_count": null,
      "outputs": []
    },
    {
      "cell_type": "code",
      "metadata": {
        "id": "kXwcK2AdxYim",
        "colab_type": "code",
        "colab": {}
      },
      "source": [
        "def reset_index_after_append(new_no_dupe_addr):\n",
        "\n",
        "    \"\"\"\n",
        "    A function to reset indices of csv after multiple appends\n",
        "    \"\"\"\n",
        "\n",
        "    df = pd.read_csv(new_no_dupe_addr)\n",
        "    df = df.reset_index(drop=True)\n",
        "    df.to_csv(new_no_dupe_addr)"
      ],
      "execution_count": null,
      "outputs": []
    },
    {
      "cell_type": "code",
      "metadata": {
        "id": "gUmilcapxYio",
        "colab_type": "code",
        "colab": {}
      },
      "source": [
        "#File addresses\n",
        "new_address = \"Sad/NewTracks/Sad100++.json\"\n",
        "old_address = \"Sad/sad_genre.csv\"\n",
        "new_no_dupe_addr = \"Sad/sad_new.csv\""
      ],
      "execution_count": null,
      "outputs": []
    },
    {
      "cell_type": "code",
      "metadata": {
        "id": "gm1fJHMxxYir",
        "colab_type": "code",
        "colab": {}
      },
      "source": [
        "new_tracks = parse_new_songs(new_address)\n",
        "old_csv = parse_csv(old_address)\n",
        "dropped_df = drop_duplicates(new_tracks, old_csv)\n",
        "dropped_df = dropped_df.reset_index(drop=True)\n",
        "write_csv(dropped_df, new_no_dupe_addr)"
      ],
      "execution_count": null,
      "outputs": []
    },
    {
      "cell_type": "code",
      "metadata": {
        "id": "93gR0wFLxYit",
        "colab_type": "code",
        "colab": {}
      },
      "source": [
        "#To be run only after running above code segment for all new track files of a certain genre\n",
        "reset_index_after_append(new_no_dupe_addr)"
      ],
      "execution_count": null,
      "outputs": []
    }
  ]
}