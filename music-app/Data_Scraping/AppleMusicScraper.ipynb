{
  "nbformat": 4,
  "nbformat_minor": 0,
  "metadata": {
    "kernelspec": {
      "display_name": "Python 3",
      "language": "python",
      "name": "python3"
    },
    "language_info": {
      "codemirror_mode": {
        "name": "ipython",
        "version": 3
      },
      "file_extension": ".py",
      "mimetype": "text/x-python",
      "name": "python",
      "nbconvert_exporter": "python",
      "pygments_lexer": "ipython3",
      "version": "3.6.10"
    },
    "colab": {
      "name": "AppleMusicScraper.ipynb",
      "provenance": [],
      "collapsed_sections": []
    }
  },
  "cells": [
    {
      "cell_type": "code",
      "metadata": {
        "id": "qcyoALLOzB2I",
        "colab_type": "code",
        "colab": {}
      },
      "source": [
        "from selenium import webdriver\n",
        "from selenium.webdriver.common.keys import Keys\n",
        "import time\n",
        "import datetime\n",
        "import json"
      ],
      "execution_count": null,
      "outputs": []
    },
    {
      "cell_type": "code",
      "metadata": {
        "id": "2YW-aElyzB2L",
        "colab_type": "code",
        "colab": {}
      },
      "source": [
        "driver = webdriver.Chrome()"
      ],
      "execution_count": null,
      "outputs": []
    },
    {
      "cell_type": "code",
      "metadata": {
        "id": "E7aAPHU3zB2O",
        "colab_type": "code",
        "colab": {}
      },
      "source": [
        "driver.get(\"https://music.apple.com/in\")"
      ],
      "execution_count": null,
      "outputs": []
    },
    {
      "cell_type": "code",
      "metadata": {
        "id": "pDb5YL6xzB2Q",
        "colab_type": "code",
        "colab": {}
      },
      "source": [
        "a = driver.find_elements_by_class_name(\"song-name\")"
      ],
      "execution_count": null,
      "outputs": []
    },
    {
      "cell_type": "code",
      "metadata": {
        "id": "T9InqWAtzB2S",
        "colab_type": "code",
        "colab": {}
      },
      "source": [
        "songs = [x.text for x in a]"
      ],
      "execution_count": null,
      "outputs": []
    },
    {
      "cell_type": "code",
      "metadata": {
        "id": "_jtWxtzHzB2V",
        "colab_type": "code",
        "colab": {}
      },
      "source": [
        "b = driver.find_elements_by_class_name(\"song-name-wrapper\")"
      ],
      "execution_count": null,
      "outputs": []
    },
    {
      "cell_type": "code",
      "metadata": {
        "id": "7CD1QIe3zB2Y",
        "colab_type": "code",
        "colab": {}
      },
      "source": [
        "artists = [x.find_element_by_class_name(\"dt-link-to\") for x in b]"
      ],
      "execution_count": null,
      "outputs": []
    },
    {
      "cell_type": "code",
      "metadata": {
        "id": "XM2dQIlYzB2a",
        "colab_type": "code",
        "colab": {}
      },
      "source": [
        "artists = [x.text for x in artists]"
      ],
      "execution_count": null,
      "outputs": []
    },
    {
      "cell_type": "code",
      "metadata": {
        "id": "tGwLNWt_zB2c",
        "colab_type": "code",
        "colab": {},
        "outputId": "1f1fa3cb-2c3b-4a42-9567-6acc06e2115b"
      },
      "source": [
        "len(songs)"
      ],
      "execution_count": null,
      "outputs": [
        {
          "output_type": "execute_result",
          "data": {
            "text/plain": [
              "50"
            ]
          },
          "metadata": {
            "tags": []
          },
          "execution_count": 128
        }
      ]
    },
    {
      "cell_type": "code",
      "metadata": {
        "id": "jnSVY7GKzB2e",
        "colab_type": "code",
        "colab": {},
        "outputId": "25feb604-4d3f-4da4-d554-3822698f2fa4"
      },
      "source": [
        "len(artists)"
      ],
      "execution_count": null,
      "outputs": [
        {
          "output_type": "execute_result",
          "data": {
            "text/plain": [
              "50"
            ]
          },
          "metadata": {
            "tags": []
          },
          "execution_count": 129
        }
      ]
    },
    {
      "cell_type": "code",
      "metadata": {
        "id": "lZ1-PvPizB2h",
        "colab_type": "code",
        "colab": {},
        "outputId": "71634de7-d844-4d1a-9311-caa00dee1aa1"
      },
      "source": [
        "songs[0]"
      ],
      "execution_count": null,
      "outputs": [
        {
          "output_type": "execute_result",
          "data": {
            "text/plain": [
              "\"You're Still the One (International Mix)\""
            ]
          },
          "metadata": {
            "tags": []
          },
          "execution_count": 130
        }
      ]
    },
    {
      "cell_type": "code",
      "metadata": {
        "id": "6ACVQz7RzB2q",
        "colab_type": "code",
        "colab": {}
      },
      "source": [
        "l = []\n",
        "d = {}\n",
        "\n",
        "for x in range(0,99):\n",
        "    d[\"artist\"] = artists[x]\n",
        "    d[\"song\"] = songs[x]\n",
        "    l.append(d)\n",
        "    d = {}       "
      ],
      "execution_count": null,
      "outputs": []
    },
    {
      "cell_type": "code",
      "metadata": {
        "id": "pqRXS1i3zB2s",
        "colab_type": "code",
        "colab": {},
        "outputId": "b64fb8e6-a675-40a2-b8d5-e9f751503bf0"
      },
      "source": [
        "l"
      ],
      "execution_count": null,
      "outputs": [
        {
          "output_type": "execute_result",
          "data": {
            "text/plain": [
              "[{'artist': 'Shania Twain',\n",
              "  'song': \"You're Still the One (International Mix)\"},\n",
              " {'artist': 'Fugees', 'song': 'Killing Me Softly With His Song'},\n",
              " {'artist': 'The Goo Goo Dolls', 'song': 'Iris'},\n",
              " {'artist': 'Savage Garden', 'song': 'Truly Madly Deeply'},\n",
              " {'artist': 'Robbie Williams', 'song': 'Angels'},\n",
              " {'artist': 'Spice Girls', 'song': '2 Become 1'},\n",
              " {'artist': 'Sixpence None the Richer', 'song': 'Kiss Me'},\n",
              " {'artist': 'Backstreet Boys', 'song': 'I Want It That Way'},\n",
              " {'artist': 'Gabrielle', 'song': 'Dreams'},\n",
              " {'artist': 'Boyzone', 'song': 'No Matter What'},\n",
              " {'artist': 'Lauryn Hill', 'song': \"Nothing Even Matters (feat. D'Angelo)\"},\n",
              " {'artist': 'Elton John', 'song': 'Can You Feel the Love Tonight'},\n",
              " {'artist': 'Bryan Adams', 'song': '(Everything I Do) I Do It for You'},\n",
              " {'artist': 'Céline Dion', 'song': 'The Power of Love'},\n",
              " {'artist': 'Faith Evans', 'song': 'Love Like This'},\n",
              " {'artist': 'Oasis', 'song': 'Wonderwall'},\n",
              " {'artist': 'Puff Daddy & Faith Evans', 'song': \"I'll Be Missing You\"},\n",
              " {'artist': 'Salt-N-Pepa', 'song': 'Whatta Man (feat. En Vogue)'},\n",
              " {'artist': '*NSYNC', 'song': 'God Must Have Spent a Little More Time On You'},\n",
              " {'artist': 'LeAnn Rimes', 'song': 'How Do I Live'},\n",
              " {'artist': 'Aaliyah', 'song': 'At Your Best (You Are Love)'},\n",
              " {'artist': 'Boyz II Men', 'song': \"I'll Make Love to You\"},\n",
              " {'artist': 'All-4-One', 'song': 'I Swear'},\n",
              " {'artist': 'Ricky Martin', 'song': \"She's All I Ever Had\"},\n",
              " {'artist': 'Red Hot Chili Peppers', 'song': 'Under the Bridge'},\n",
              " {'artist': 'K-Ci & JoJo', 'song': 'All My Life'},\n",
              " {'artist': 'Jewel', 'song': 'You Were Meant for Me'},\n",
              " {'artist': 'Bryan Adams', 'song': '(Everything I Do) I Do It for You'},\n",
              " {'artist': 'Meat Loaf',\n",
              "  'song': \"I'd Do Anything For Love (But I Won't Do That)\"},\n",
              " {'artist': 'Whitney Houston',\n",
              "  'song': 'I Will Always Love You (Film Version)'},\n",
              " {'artist': 'Aerosmith', 'song': \"I Don't Want to Miss a Thing\"},\n",
              " {'artist': 'The Roots & Tariq Trotter',\n",
              "  'song': 'You Got Me (feat. Erykah Badu & Eve)'},\n",
              " {'artist': 'Monica', 'song': 'Angel of Mine (Radio Mix)'},\n",
              " {'artist': 'Mazzy Star, Hope Sandoval & David Roback',\n",
              "  'song': 'Fade Into You'},\n",
              " {'artist': 'Weezer', 'song': 'Buddy Holly'},\n",
              " {'artist': 'Pulp', 'song': 'Something Changed'},\n",
              " {'artist': 'Michael Jackson', 'song': 'You Are Not Alone (Single Version)'},\n",
              " {'artist': 'Green Day', 'song': '2000 Light Years Away'},\n",
              " {'artist': 'Björk', 'song': 'Possibly Maybe'},\n",
              " {'artist': 'Mariah Carey', 'song': 'Emotions'},\n",
              " {'artist': 'R.E.M.', 'song': 'At My Most Beautiful'},\n",
              " {'artist': 'Janet Jackson', 'song': \"That's the Way Love Goes\"},\n",
              " {'artist': 'Pretenders', 'song': \"I'll Stand By You\"},\n",
              " {'artist': 'Mariah Carey', 'song': 'Vision of Love'},\n",
              " {'artist': 'Seal', 'song': 'Kiss from a Rose'},\n",
              " {'artist': 'The Cure', 'song': \"Friday I'm In Love\"},\n",
              " {'artist': 'Wilson Phillips', 'song': 'Hold On'},\n",
              " {'artist': 'The Wannadies', 'song': 'You & Me Song'},\n",
              " {'artist': \"D'Angelo\", 'song': 'Untitled (How Does It Feel) [Edit]'},\n",
              " {'artist': 'Foo Fighters', 'song': 'Everlong'}]"
            ]
          },
          "metadata": {
            "tags": []
          },
          "execution_count": 133
        }
      ]
    },
    {
      "cell_type": "code",
      "metadata": {
        "id": "tQJN13Y2zB2u",
        "colab_type": "code",
        "colab": {}
      },
      "source": [
        "with open(\"Love100++.json\", \"w\") as read_file:\n",
        "    json.dump(l, read_file)"
      ],
      "execution_count": null,
      "outputs": []
    }
  ]
}