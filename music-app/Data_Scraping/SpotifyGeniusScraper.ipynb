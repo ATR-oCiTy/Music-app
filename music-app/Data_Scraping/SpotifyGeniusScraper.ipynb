{
  "nbformat": 4,
  "nbformat_minor": 0,
  "metadata": {
    "kernelspec": {
      "display_name": "Python 3",
      "language": "python",
      "name": "python3"
    },
    "language_info": {
      "codemirror_mode": {
        "name": "ipython",
        "version": 3
      },
      "file_extension": ".py",
      "mimetype": "text/x-python",
      "name": "python",
      "nbconvert_exporter": "python",
      "pygments_lexer": "ipython3",
      "version": "3.6.10"
    },
    "colab": {
      "name": "SpotifyGeniusScraper.ipynb",
      "provenance": [],
      "collapsed_sections": []
    }
  },
  "cells": [
    {
      "cell_type": "code",
      "metadata": {
        "id": "hmRLu_qAFOjQ",
        "colab_type": "code",
        "colab": {
          "base_uri": "https://localhost:8080/",
          "height": 159
        },
        "outputId": "620705be-ee02-4976-a579-6d8e09edfa1f"
      },
      "source": [
        "!pip install lyricsgenius"
      ],
      "execution_count": 1,
      "outputs": [
        {
          "output_type": "stream",
          "text": [
            "Requirement already satisfied: lyricsgenius in /usr/local/lib/python3.6/dist-packages (1.8.6)\n",
            "Requirement already satisfied: requests>=2.20.0 in /usr/local/lib/python3.6/dist-packages (from lyricsgenius) (2.23.0)\n",
            "Requirement already satisfied: beautifulsoup4==4.6.0 in /usr/local/lib/python3.6/dist-packages (from lyricsgenius) (4.6.0)\n",
            "Requirement already satisfied: urllib3!=1.25.0,!=1.25.1,<1.26,>=1.21.1 in /usr/local/lib/python3.6/dist-packages (from requests>=2.20.0->lyricsgenius) (1.24.3)\n",
            "Requirement already satisfied: idna<3,>=2.5 in /usr/local/lib/python3.6/dist-packages (from requests>=2.20.0->lyricsgenius) (2.10)\n",
            "Requirement already satisfied: certifi>=2017.4.17 in /usr/local/lib/python3.6/dist-packages (from requests>=2.20.0->lyricsgenius) (2020.6.20)\n",
            "Requirement already satisfied: chardet<4,>=3.0.2 in /usr/local/lib/python3.6/dist-packages (from requests>=2.20.0->lyricsgenius) (3.0.4)\n"
          ],
          "name": "stdout"
        }
      ]
    },
    {
      "cell_type": "code",
      "metadata": {
        "id": "ZQ-wxybTBQBC",
        "colab_type": "code",
        "colab": {
          "base_uri": "https://localhost:8080/",
          "height": 297
        },
        "outputId": "6ff07a49-7961-4a50-e8c7-37d872ae859e"
      },
      "source": [
        "!pip install googletrans"
      ],
      "execution_count": 2,
      "outputs": [
        {
          "output_type": "stream",
          "text": [
            "Requirement already satisfied: googletrans in /usr/local/lib/python3.6/dist-packages (3.0.0)\n",
            "Requirement already satisfied: httpx==0.13.3 in /usr/local/lib/python3.6/dist-packages (from googletrans) (0.13.3)\n",
            "Requirement already satisfied: hstspreload in /usr/local/lib/python3.6/dist-packages (from httpx==0.13.3->googletrans) (2020.8.18)\n",
            "Requirement already satisfied: chardet==3.* in /usr/local/lib/python3.6/dist-packages (from httpx==0.13.3->googletrans) (3.0.4)\n",
            "Requirement already satisfied: certifi in /usr/local/lib/python3.6/dist-packages (from httpx==0.13.3->googletrans) (2020.6.20)\n",
            "Requirement already satisfied: rfc3986<2,>=1.3 in /usr/local/lib/python3.6/dist-packages (from httpx==0.13.3->googletrans) (1.4.0)\n",
            "Requirement already satisfied: sniffio in /usr/local/lib/python3.6/dist-packages (from httpx==0.13.3->googletrans) (1.1.0)\n",
            "Requirement already satisfied: httpcore==0.9.* in /usr/local/lib/python3.6/dist-packages (from httpx==0.13.3->googletrans) (0.9.1)\n",
            "Requirement already satisfied: idna==2.* in /usr/local/lib/python3.6/dist-packages (from httpx==0.13.3->googletrans) (2.10)\n",
            "Requirement already satisfied: contextvars>=2.1; python_version < \"3.7\" in /usr/local/lib/python3.6/dist-packages (from sniffio->httpx==0.13.3->googletrans) (2.4)\n",
            "Requirement already satisfied: h2==3.* in /usr/local/lib/python3.6/dist-packages (from httpcore==0.9.*->httpx==0.13.3->googletrans) (3.2.0)\n",
            "Requirement already satisfied: h11<0.10,>=0.8 in /usr/local/lib/python3.6/dist-packages (from httpcore==0.9.*->httpx==0.13.3->googletrans) (0.9.0)\n",
            "Requirement already satisfied: immutables>=0.9 in /usr/local/lib/python3.6/dist-packages (from contextvars>=2.1; python_version < \"3.7\"->sniffio->httpx==0.13.3->googletrans) (0.14)\n",
            "Requirement already satisfied: hpack<4,>=3.0 in /usr/local/lib/python3.6/dist-packages (from h2==3.*->httpcore==0.9.*->httpx==0.13.3->googletrans) (3.0.0)\n",
            "Requirement already satisfied: hyperframe<6,>=5.2.0 in /usr/local/lib/python3.6/dist-packages (from h2==3.*->httpcore==0.9.*->httpx==0.13.3->googletrans) (5.2.0)\n"
          ],
          "name": "stdout"
        }
      ]
    },
    {
      "cell_type": "code",
      "metadata": {
        "id": "0zMGpWbTEfuf",
        "colab_type": "code",
        "colab": {}
      },
      "source": [
        "import numpy as np\n",
        "import pandas as pd\n",
        "import json\n",
        "import time\n",
        "import lyricsgenius\n",
        "import  multiprocessing\n",
        "import warnings\n",
        "import random\n",
        "import requests\n",
        "\n",
        "from spotifyclient import SpotifyAPI\n",
        "from googletrans import Translator\n"
      ],
      "execution_count": 3,
      "outputs": []
    },
    {
      "cell_type": "code",
      "metadata": {
        "id": "Agzxu1YNp_bC",
        "colab_type": "code",
        "colab": {}
      },
      "source": [
        "warnings.filterwarnings('ignore')\n",
        "random.seed(5)"
      ],
      "execution_count": 4,
      "outputs": []
    },
    {
      "cell_type": "code",
      "metadata": {
        "id": "jNB5TeaVEfuk",
        "colab_type": "code",
        "colab": {}
      },
      "source": [
        "#Get the client id and client secret from SpotifyAPI\n",
        "client_id = '116037a141a04c628cdadaf11310f7d8'\n",
        "client_secret = 'f505511e896d4b8fb4cd27c4e771f9f6'\n",
        "\n",
        "genius = lyricsgenius.Genius('p2U70gp0xq5TWV10R8iJXI5uz4DjNseRup1FA63S8-3ZgQBOMyCneDzCew89BXVb')\n",
        "\n",
        "spotify = SpotifyAPI(client_id, client_secret)"
      ],
      "execution_count": 5,
      "outputs": []
    },
    {
      "cell_type": "code",
      "metadata": {
        "id": "I_Mee9_aHOT9",
        "colab_type": "code",
        "colab": {}
      },
      "source": [
        "genius.verbose = False # Turn off status messages\n",
        "genius.remove_section_headers = True # Remove section headers (e.g. [Chorus]) from lyrics when searching\n",
        "genius.excluded_terms = [\"(Remix)\", \"(Live)\"]"
      ],
      "execution_count": 6,
      "outputs": []
    },
    {
      "cell_type": "code",
      "metadata": {
        "id": "blSnyKTbloXi",
        "colab_type": "code",
        "colab": {}
      },
      "source": [
        "def preprocess_df(df,query):\n",
        "\n",
        "  \"\"\" This function is used to preprocess the given \n",
        "      dataframe\n",
        "\n",
        "      Arguments :\n",
        "        1) df(DataFrame) : The dataframe to be preprocessed\n",
        "        2) query(str)    : The type of genre\n",
        "\n",
        "      Returns : \n",
        "        The preprocessed dataframe\n",
        "\n",
        "  \"\"\"\n",
        "  df.drop_duplicates(keep='first',inplace=True)\n",
        "  df.reset_index(drop=True,inplace=True)\n",
        "  df.rename(columns={'artist':'Artist','song':'Song'},inplace=True)\n",
        "  print('Number of songs returned by the Spotify API of genre {}\\\n",
        "  is {}'.format(query.upper(),len(df)))\n",
        "\n",
        "  return df"
      ],
      "execution_count": 7,
      "outputs": []
    },
    {
      "cell_type": "code",
      "metadata": {
        "id": "YywA8qlS9TbE",
        "colab_type": "code",
        "colab": {}
      },
      "source": [
        "def get_song_name(query,search_type):\n",
        "\n",
        "  \"\"\" This function is used to return the song titles \n",
        "      and also the artist names correspoding to each \n",
        "      query and type.\n",
        "\n",
        "      Arguments:\n",
        "\n",
        "        1) query(str) : The type of genre.\n",
        "        2) search_type(str)  : The form in which the \n",
        "                               songs are returned.\n",
        "\n",
        "      Returns:\n",
        "\n",
        "        A list of dictionaries containing the song name\n",
        "        and it's corresponding artists.\n",
        "\n",
        "  \"\"\"\n",
        "  play_data = spotify.search(query = query, search_type = search_type)\n",
        "  list_of_songs = []\n",
        "\n",
        "  for i in range(len(play_data['playlists']['items'])):\n",
        "    track_data = spotify.get_playlist_tracks(play_data['playlists']['items']\n",
        "                                             [i]['id'])\n",
        "\n",
        "    for j in range(len(track_data['items'])-1):     \n",
        "      songs_and_artists={}\n",
        "      try:\n",
        "        songs_and_artists['artist'] = track_data['items'][j+1]['track'] \\\n",
        "                                                ['artists'][0]['name']\n",
        "      except:\n",
        "        songs_and_artists['artist'] = 'None' \n",
        "      try:\n",
        "        songs_and_artists['song']=track_data['items'][j+1]['track']['name']\n",
        "      except:\n",
        "        songs_and_artists['song'] = 'None'\n",
        "\n",
        "      list_of_songs.append(songs_and_artists)      \n",
        "\n",
        "  final_list = [i for i in list_of_songs if not (i['artist'] == 'None' or \n",
        "                                                 i['song'] == 'None')]\n",
        "  df_final = pd.DataFrame(final_list)\n",
        "  \n",
        "  return preprocess_df(df_final,query) "
      ],
      "execution_count": 8,
      "outputs": []
    },
    {
      "cell_type": "code",
      "metadata": {
        "id": "BCYxorzDF23P",
        "colab_type": "code",
        "colab": {
          "base_uri": "https://localhost:8080/",
          "height": 53
        },
        "outputId": "97cdf95c-429c-4221-e379-0d77a5174d59"
      },
      "source": [
        "#def genius_api(artist_name,song_name):\n",
        "\n",
        "\"\"\" This function is used to return the lyrics of a song \n",
        "      using the GeniusAPI.\n",
        "\n",
        "      Arguments :\n",
        "\n",
        "        1) artist_name(str) : Name of the artist.\n",
        "        2) song_name(str)   : Name of the song.\n",
        "\n",
        "     Returns :\n",
        "\n",
        "       The lyrics of the song\n",
        "\n",
        "  \"\"\"\n",
        "  #try:\n",
        "   # song = genius.search_song(song_name,artist_name,get_full_info=True)\n",
        "    #lyrics = song.lyrics\n",
        "  #except:\n",
        "   # lyrics = np.nan\n",
        "\n",
        "  #return lyrics"
      ],
      "execution_count": 9,
      "outputs": [
        {
          "output_type": "execute_result",
          "data": {
            "application/vnd.google.colaboratory.intrinsic+json": {
              "type": "string"
            },
            "text/plain": [
              "' This function is used to return the lyrics of a song \\n      using the GeniusAPI.\\n\\n      Arguments :\\n\\n        1) artist_name(str) : Name of the artist.\\n        2) song_name(str)   : Name of the song.\\n\\n     Returns :\\n\\n       The lyrics of the song\\n\\n  '"
            ]
          },
          "metadata": {
            "tags": []
          },
          "execution_count": 9
        }
      ]
    },
    {
      "cell_type": "code",
      "metadata": {
        "id": "jTVPGrkP8MYI",
        "colab_type": "code",
        "colab": {}
      },
      "source": [
        "def genius_api(artist_name,song_name):\n",
        "\n",
        "  \"\"\" This function is used to return the lyrics of a song \n",
        "      using the GeniusAPI.\n",
        "\n",
        "      Arguments :\n",
        "\n",
        "        1) artist_name(str) : Name of the artist.\n",
        "        2) song_name(str)   : Name of the song.\n",
        "\n",
        "      Returns :\n",
        "\n",
        "        The lyrics of the song\n",
        "\n",
        "  \"\"\"\n",
        "  try:\n",
        "    song = genius.search_song(song_name,\n",
        "                            artist_name,\n",
        "                            get_full_info=False)\n",
        "    lyrics = song.lyrics\n",
        "    \n",
        "  except requests.exceptions.Timeout:\n",
        "    return np.nan\n",
        "\n",
        "  except AttributeError:\n",
        "    i = 0\n",
        "    while song is None:\n",
        "      if i == 5:\n",
        "        return np.nan\n",
        "        break\n",
        "      try:\n",
        "        song = genius.search_song(song_name,\n",
        "                                artist_name,\n",
        "                                get_full_info=False)\n",
        "      except requests.exceptions.Timeout:\n",
        "        return np.nan\n",
        "      i+=1\n",
        "      if song is not None:\n",
        "        lyrics= song.lyrics\n",
        "        break\n",
        "\n",
        "  return lyrics"
      ],
      "execution_count": 10,
      "outputs": []
    },
    {
      "cell_type": "code",
      "metadata": {
        "id": "tMD1N76Kj352",
        "colab_type": "code",
        "colab": {}
      },
      "source": [
        "def get_song_lyrics(df,p=50):\n",
        "\n",
        "  \"\"\" This function is used to get the song lyrics using \n",
        "      multiprocessing.\n",
        "\n",
        "      Arguments:\n",
        "        \n",
        "        1) df(DataFrame) : The dataset to do multiprocessing on.\n",
        "        2) p(int)        : The number of processes.\n",
        "\n",
        "      Returns :\n",
        "\n",
        "        The dataframe which contains the lyrics.\n",
        "\n",
        "  \"\"\"\n",
        "  #with multiprocessing.dummy.Pool(processes=p) as pool:\n",
        "  pool = multiprocessing.Pool(50)\n",
        "  df['Lyrics'] = pool.starmap(genius_api,\n",
        "                              zip(df['Artist'],df['Song']))\n",
        "  pool.terminate()\n",
        "  pool.join()\n",
        "\n",
        "  return df"
      ],
      "execution_count": 11,
      "outputs": []
    },
    {
      "cell_type": "code",
      "metadata": {
        "id": "3K9jMrASFsef",
        "colab_type": "code",
        "colab": {
          "base_uri": "https://localhost:8080/",
          "height": 52
        },
        "outputId": "3fcfd5d7-2b59-4e90-86e9-9d6b706e314b"
      },
      "source": [
        "#Getting the song names of genre 'Love'\n",
        "df_title_love = get_song_name('love','playlist')"
      ],
      "execution_count": null,
      "outputs": [
        {
          "output_type": "stream",
          "text": [
            "q=love&type=playlist&limit=50\n",
            "Number of songs returned by the Spotify API of genre LOVE  is 3021\n"
          ],
          "name": "stdout"
        }
      ]
    },
    {
      "cell_type": "code",
      "metadata": {
        "id": "G6rvGWPbF6WU",
        "colab_type": "code",
        "colab": {}
      },
      "source": [
        "#Getting the song lyrics corresponding to the song name and artist name\n",
        "df_love = get_song_lyrics(df_title_love)"
      ],
      "execution_count": null,
      "outputs": []
    },
    {
      "cell_type": "code",
      "metadata": {
        "id": "9wy3pYRK0D-m",
        "colab_type": "code",
        "colab": {
          "base_uri": "https://localhost:8080/",
          "height": 87
        },
        "outputId": "bcfc10d9-de1e-4257-aa84-2f1dea2bc24c"
      },
      "source": [
        "df_love.isnull().sum()"
      ],
      "execution_count": null,
      "outputs": [
        {
          "output_type": "execute_result",
          "data": {
            "text/plain": [
              "Artist      0\n",
              "Song        0\n",
              "Lyrics    527\n",
              "dtype: int64"
            ]
          },
          "metadata": {
            "tags": []
          },
          "execution_count": 25
        }
      ]
    },
    {
      "cell_type": "code",
      "metadata": {
        "id": "37Kxcu7bMGFr",
        "colab_type": "code",
        "colab": {}
      },
      "source": [
        "df_love.dropna(axis=0,inplace=True)"
      ],
      "execution_count": null,
      "outputs": []
    },
    {
      "cell_type": "code",
      "metadata": {
        "id": "AZDj91YqLr4A",
        "colab_type": "code",
        "colab": {}
      },
      "source": [
        "df_love.to_csv('love_genre.csv')"
      ],
      "execution_count": null,
      "outputs": []
    },
    {
      "cell_type": "code",
      "metadata": {
        "id": "uS8eafCIqzaI",
        "colab_type": "code",
        "colab": {
          "base_uri": "https://localhost:8080/",
          "height": 52
        },
        "outputId": "b781212e-90e9-4ad1-a239-5e3ea973beca"
      },
      "source": [
        "#Getting the song names of genre 'Sad'\n",
        "df_title_sad = get_song_name('sad','playlist')"
      ],
      "execution_count": null,
      "outputs": [
        {
          "output_type": "stream",
          "text": [
            "q=sad&type=playlist&limit=50\n",
            "Number of songs returned by the Spotify API of genre SAD  is 2855\n"
          ],
          "name": "stdout"
        }
      ]
    },
    {
      "cell_type": "code",
      "metadata": {
        "id": "oihKRM3c_G0W",
        "colab_type": "code",
        "colab": {}
      },
      "source": [
        "#Getting the song lyrics corresponding to the song name and artist name\n",
        "df_sad = get_song_lyrics(df_title_sad)"
      ],
      "execution_count": null,
      "outputs": []
    },
    {
      "cell_type": "code",
      "metadata": {
        "id": "KqREByJBsy76",
        "colab_type": "code",
        "colab": {
          "base_uri": "https://localhost:8080/",
          "height": 87
        },
        "outputId": "630e9fbd-7039-4960-b9e2-3408906731a2"
      },
      "source": [
        "df_sad.isnull().sum()"
      ],
      "execution_count": null,
      "outputs": [
        {
          "output_type": "execute_result",
          "data": {
            "text/plain": [
              "Artist      0\n",
              "Song        0\n",
              "Lyrics    555\n",
              "dtype: int64"
            ]
          },
          "metadata": {
            "tags": []
          },
          "execution_count": 19
        }
      ]
    },
    {
      "cell_type": "code",
      "metadata": {
        "id": "7XQjd7H5B_N3",
        "colab_type": "code",
        "colab": {}
      },
      "source": [
        "df_sad.to_csv('sad_genre.csv')"
      ],
      "execution_count": null,
      "outputs": []
    },
    {
      "cell_type": "code",
      "metadata": {
        "id": "eluHVtDT-sV-",
        "colab_type": "code",
        "colab": {
          "base_uri": "https://localhost:8080/",
          "height": 52
        },
        "outputId": "df6c631b-89a7-4b86-beb0-14a8a94b5c39"
      },
      "source": [
        "#Getting the song name of genre 'Motivation'\n",
        "df_title_motivation = get_song_name('motivation','playlist')"
      ],
      "execution_count": null,
      "outputs": [
        {
          "output_type": "stream",
          "text": [
            "q=motivation&type=playlist&limit=50\n",
            "Number of songs returned by the Spotify API of genre MOTIVATION  is 2831\n"
          ],
          "name": "stdout"
        }
      ]
    },
    {
      "cell_type": "code",
      "metadata": {
        "id": "ekCHwKcA_AGA",
        "colab_type": "code",
        "colab": {}
      },
      "source": [
        "#Getting song lyrics corresponding to the song name and artist\n",
        "df_motivation = get_song_lyrics(df_title_motivation)"
      ],
      "execution_count": null,
      "outputs": []
    },
    {
      "cell_type": "code",
      "metadata": {
        "id": "2yoxkviLBEQu",
        "colab_type": "code",
        "colab": {
          "base_uri": "https://localhost:8080/",
          "height": 87
        },
        "outputId": "96144dc1-06d4-4112-d857-c7ee5713bb68"
      },
      "source": [
        "df_motivation.isnull().sum()"
      ],
      "execution_count": null,
      "outputs": [
        {
          "output_type": "execute_result",
          "data": {
            "text/plain": [
              "Artist      0\n",
              "Song        0\n",
              "Lyrics    611\n",
              "dtype: int64"
            ]
          },
          "metadata": {
            "tags": []
          },
          "execution_count": 26
        }
      ]
    },
    {
      "cell_type": "code",
      "metadata": {
        "id": "6lEOD8esBJSu",
        "colab_type": "code",
        "colab": {}
      },
      "source": [
        "df_motivation.dropna(axis=0,inplace=True)"
      ],
      "execution_count": null,
      "outputs": []
    },
    {
      "cell_type": "code",
      "metadata": {
        "id": "uc55DbkFBUQ_",
        "colab_type": "code",
        "colab": {}
      },
      "source": [
        "df_motivation.to_csv('motivation_genre.csv')"
      ],
      "execution_count": null,
      "outputs": []
    },
    {
      "cell_type": "code",
      "metadata": {
        "id": "XLE1wad1X0Ve",
        "colab_type": "code",
        "colab": {
          "base_uri": "https://localhost:8080/",
          "height": 52
        },
        "outputId": "7fa98be4-0823-4171-acb5-df4071f6037d"
      },
      "source": [
        "#Getting the song name of genre 'Happy'\n",
        "df_title_happy = get_song_name('happy','playlist')"
      ],
      "execution_count": 12,
      "outputs": [
        {
          "output_type": "stream",
          "text": [
            "q=happy&type=playlist&limit=50\n",
            "Number of songs returned by the Spotify API of genre HAPPY  is 2930\n"
          ],
          "name": "stdout"
        }
      ]
    },
    {
      "cell_type": "code",
      "metadata": {
        "id": "IVe3p-5LYML9",
        "colab_type": "code",
        "colab": {}
      },
      "source": [
        "#Getting the song lyrics corresponding to the song name and artist name\n",
        "df_happy = get_song_lyrics(df_title_happy)"
      ],
      "execution_count": 13,
      "outputs": []
    },
    {
      "cell_type": "code",
      "metadata": {
        "id": "ilRhIfPcgn6R",
        "colab_type": "code",
        "colab": {}
      },
      "source": [
        "df_happy.dropna(axis=0,inplace=True)"
      ],
      "execution_count": 19,
      "outputs": []
    },
    {
      "cell_type": "code",
      "metadata": {
        "id": "CVHtLxw_hRFQ",
        "colab_type": "code",
        "colab": {}
      },
      "source": [
        "df_happy.to_csv('happy_genre.csv')"
      ],
      "execution_count": 21,
      "outputs": []
    },
    {
      "cell_type": "code",
      "metadata": {
        "id": "hnH2-25lRViw",
        "colab_type": "code",
        "colab": {}
      },
      "source": [
        "import lyricsgenius\n",
        "genius = lyricsgenius.Genius('p2U70gp0xq5TWV10R8iJXI5uz4DjNseRup1FA63S8-3ZgQBOMyCneDzCew89BXVb')"
      ],
      "execution_count": null,
      "outputs": []
    },
    {
      "cell_type": "code",
      "metadata": {
        "id": "4VHglqUnWtV9",
        "colab_type": "code",
        "colab": {}
      },
      "source": [
        "pop = pd.DataFrame({'Artist':['Harry Styles','Bruno Mars','ffgf'],'Song':['Sign of the Times','Talking to the Moon','fdsd']})"
      ],
      "execution_count": null,
      "outputs": []
    }
  ]
}