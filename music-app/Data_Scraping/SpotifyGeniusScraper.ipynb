{
  "nbformat": 4,
  "nbformat_minor": 0,
  "metadata": {
    "kernelspec": {
      "display_name": "Python 3",
      "language": "python",
      "name": "python3"
    },
    "language_info": {
      "codemirror_mode": {
        "name": "ipython",
        "version": 3
      },
      "file_extension": ".py",
      "mimetype": "text/x-python",
      "name": "python",
      "nbconvert_exporter": "python",
      "pygments_lexer": "ipython3",
      "version": "3.6.10"
    },
    "colab": {
      "name": "SpotifyGeniusScraper.ipynb",
      "provenance": [],
      "collapsed_sections": []
    }
  },
  "cells": [
    {
      "cell_type": "code",
      "metadata": {
        "id": "hmRLu_qAFOjQ",
        "colab_type": "code",
        "colab": {
          "base_uri": "https://localhost:8080/",
          "height": 297
        },
        "outputId": "ce63be89-0569-4075-8d2f-0a5d103b0fd8"
      },
      "source": [
        "!pip install lyricsgenius"
      ],
      "execution_count": null,
      "outputs": [
        {
          "output_type": "stream",
          "text": [
            "Collecting lyricsgenius\n",
            "  Downloading https://files.pythonhosted.org/packages/ac/11/882d82851d75498c3c38d84c0641ae19d26a0aef51242563f00d98b810fd/lyricsgenius-1.8.6-py3-none-any.whl\n",
            "Collecting beautifulsoup4==4.6.0\n",
            "\u001b[?25l  Downloading https://files.pythonhosted.org/packages/9e/d4/10f46e5cfac773e22707237bfcd51bbffeaf0a576b0a847ec7ab15bd7ace/beautifulsoup4-4.6.0-py3-none-any.whl (86kB)\n",
            "\u001b[K     |████████████████████████████████| 92kB 2.8MB/s \n",
            "\u001b[?25hRequirement already satisfied: requests>=2.20.0 in /usr/local/lib/python3.6/dist-packages (from lyricsgenius) (2.23.0)\n",
            "Requirement already satisfied: chardet<4,>=3.0.2 in /usr/local/lib/python3.6/dist-packages (from requests>=2.20.0->lyricsgenius) (3.0.4)\n",
            "Requirement already satisfied: certifi>=2017.4.17 in /usr/local/lib/python3.6/dist-packages (from requests>=2.20.0->lyricsgenius) (2020.6.20)\n",
            "Requirement already satisfied: urllib3!=1.25.0,!=1.25.1,<1.26,>=1.21.1 in /usr/local/lib/python3.6/dist-packages (from requests>=2.20.0->lyricsgenius) (1.24.3)\n",
            "Requirement already satisfied: idna<3,>=2.5 in /usr/local/lib/python3.6/dist-packages (from requests>=2.20.0->lyricsgenius) (2.10)\n",
            "Installing collected packages: beautifulsoup4, lyricsgenius\n",
            "  Found existing installation: beautifulsoup4 4.6.3\n",
            "    Uninstalling beautifulsoup4-4.6.3:\n",
            "      Successfully uninstalled beautifulsoup4-4.6.3\n",
            "Successfully installed beautifulsoup4-4.6.0 lyricsgenius-1.8.6\n"
          ],
          "name": "stdout"
        }
      ]
    },
    {
      "cell_type": "code",
      "metadata": {
        "id": "ZQ-wxybTBQBC",
        "colab_type": "code",
        "colab": {
          "base_uri": "https://localhost:8080/",
          "height": 783
        },
        "outputId": "1436b6bc-44b2-4e34-aae6-c6e52429b8fd"
      },
      "source": [
        "!pip install googletrans"
      ],
      "execution_count": null,
      "outputs": [
        {
          "output_type": "stream",
          "text": [
            "Collecting googletrans\n",
            "  Downloading https://files.pythonhosted.org/packages/71/3a/3b19effdd4c03958b90f40fe01c93de6d5280e03843cc5adf6956bfc9512/googletrans-3.0.0.tar.gz\n",
            "Collecting httpx==0.13.3\n",
            "\u001b[?25l  Downloading https://files.pythonhosted.org/packages/54/b4/698b284c6aed4d7c2b4fe3ba5df1fcf6093612423797e76fbb24890dd22f/httpx-0.13.3-py3-none-any.whl (55kB)\n",
            "\u001b[K     |████████████████████████████████| 61kB 2.7MB/s \n",
            "\u001b[?25hRequirement already satisfied: chardet==3.* in /usr/local/lib/python3.6/dist-packages (from httpx==0.13.3->googletrans) (3.0.4)\n",
            "Requirement already satisfied: certifi in /usr/local/lib/python3.6/dist-packages (from httpx==0.13.3->googletrans) (2020.6.20)\n",
            "Collecting hstspreload\n",
            "\u001b[?25l  Downloading https://files.pythonhosted.org/packages/db/a0/3378cffb2b4db42102063974bdc008d86883c4db5bb2b557d1b909c445df/hstspreload-2020.8.12-py3-none-any.whl (934kB)\n",
            "\u001b[K     |████████████████████████████████| 942kB 7.5MB/s \n",
            "\u001b[?25hCollecting httpcore==0.9.*\n",
            "\u001b[?25l  Downloading https://files.pythonhosted.org/packages/dd/d5/e4ff9318693ac6101a2095e580908b591838c6f33df8d3ee8dd953ba96a8/httpcore-0.9.1-py3-none-any.whl (42kB)\n",
            "\u001b[K     |████████████████████████████████| 51kB 5.9MB/s \n",
            "\u001b[?25hRequirement already satisfied: idna==2.* in /usr/local/lib/python3.6/dist-packages (from httpx==0.13.3->googletrans) (2.10)\n",
            "Collecting sniffio\n",
            "  Downloading https://files.pythonhosted.org/packages/b3/82/4bd4b7d9c0d1dc0fbfbc2a1e00138e7f3ab85bc239358fe9b78aa2ab586d/sniffio-1.1.0-py3-none-any.whl\n",
            "Collecting rfc3986<2,>=1.3\n",
            "  Downloading https://files.pythonhosted.org/packages/78/be/7b8b99fd74ff5684225f50dd0e865393d2265656ef3b4ba9eaaaffe622b8/rfc3986-1.4.0-py2.py3-none-any.whl\n",
            "Collecting h11<0.10,>=0.8\n",
            "\u001b[?25l  Downloading https://files.pythonhosted.org/packages/5a/fd/3dad730b0f95e78aeeb742f96fa7bbecbdd56a58e405d3da440d5bfb90c6/h11-0.9.0-py2.py3-none-any.whl (53kB)\n",
            "\u001b[K     |████████████████████████████████| 61kB 6.3MB/s \n",
            "\u001b[?25hCollecting h2==3.*\n",
            "\u001b[?25l  Downloading https://files.pythonhosted.org/packages/25/de/da019bcc539eeab02f6d45836f23858ac467f584bfec7a526ef200242afe/h2-3.2.0-py2.py3-none-any.whl (65kB)\n",
            "\u001b[K     |████████████████████████████████| 71kB 6.8MB/s \n",
            "\u001b[?25hCollecting contextvars>=2.1; python_version < \"3.7\"\n",
            "  Downloading https://files.pythonhosted.org/packages/83/96/55b82d9f13763be9d672622e1b8106c85acb83edd7cc2fa5bc67cd9877e9/contextvars-2.4.tar.gz\n",
            "Collecting hpack<4,>=3.0\n",
            "  Downloading https://files.pythonhosted.org/packages/8a/cc/e53517f4a1e13f74776ca93271caef378dadec14d71c61c949d759d3db69/hpack-3.0.0-py2.py3-none-any.whl\n",
            "Collecting hyperframe<6,>=5.2.0\n",
            "  Downloading https://files.pythonhosted.org/packages/19/0c/bf88182bcb5dce3094e2f3e4fe20db28a9928cb7bd5b08024030e4b140db/hyperframe-5.2.0-py2.py3-none-any.whl\n",
            "Collecting immutables>=0.9\n",
            "\u001b[?25l  Downloading https://files.pythonhosted.org/packages/99/e0/ea6fd4697120327d26773b5a84853f897a68e33d3f9376b00a8ff96e4f63/immutables-0.14-cp36-cp36m-manylinux1_x86_64.whl (98kB)\n",
            "\u001b[K     |████████████████████████████████| 102kB 7.9MB/s \n",
            "\u001b[?25hBuilding wheels for collected packages: googletrans, contextvars\n",
            "  Building wheel for googletrans (setup.py) ... \u001b[?25l\u001b[?25hdone\n",
            "  Created wheel for googletrans: filename=googletrans-3.0.0-cp36-none-any.whl size=15736 sha256=58b10b9f9825e8b96dd47f37a38eab09caecf0339f22739bd1a83f1e54ae0ea5\n",
            "  Stored in directory: /root/.cache/pip/wheels/28/1a/a7/eaf4d7a3417a0c65796c547cff4deb6d79c7d14c2abd29273e\n",
            "  Building wheel for contextvars (setup.py) ... \u001b[?25l\u001b[?25hdone\n",
            "  Created wheel for contextvars: filename=contextvars-2.4-cp36-none-any.whl size=7666 sha256=0cc5c89ae58f8bb49f88bc58760cb1c10b97bed044ed366f9cdaf12a4e38d0a8\n",
            "  Stored in directory: /root/.cache/pip/wheels/a5/7d/68/1ebae2668bda2228686e3c1cf16f2c2384cea6e9334ad5f6de\n",
            "Successfully built googletrans contextvars\n",
            "Installing collected packages: hstspreload, h11, hpack, hyperframe, h2, immutables, contextvars, sniffio, httpcore, rfc3986, httpx, googletrans\n",
            "Successfully installed contextvars-2.4 googletrans-3.0.0 h11-0.9.0 h2-3.2.0 hpack-3.0.0 hstspreload-2020.8.12 httpcore-0.9.1 httpx-0.13.3 hyperframe-5.2.0 immutables-0.14 rfc3986-1.4.0 sniffio-1.1.0\n"
          ],
          "name": "stdout"
        }
      ]
    },
    {
      "cell_type": "code",
      "metadata": {
        "id": "0zMGpWbTEfuf",
        "colab_type": "code",
        "colab": {}
      },
      "source": [
        "import numpy as np\n",
        "import pandas as pd\n",
        "import json\n",
        "import time\n",
        "import lyricsgenius\n",
        "import  multiprocessing\n",
        "import warnings\n",
        "import random\n",
        "import requests\n",
        "\n",
        "from spotifyclient import SpotifyAPI\n",
        "from googletrans import Translator\n"
      ],
      "execution_count": null,
      "outputs": []
    },
    {
      "cell_type": "code",
      "metadata": {
        "id": "Agzxu1YNp_bC",
        "colab_type": "code",
        "colab": {}
      },
      "source": [
        "warnings.filterwarnings('ignore')\n",
        "random.seed(5)"
      ],
      "execution_count": null,
      "outputs": []
    },
    {
      "cell_type": "code",
      "metadata": {
        "id": "jNB5TeaVEfuk",
        "colab_type": "code",
        "colab": {}
      },
      "source": [
        "#Get the client id and client secret from SpotifyAPI\n",
        "client_id = '116037a141a04c628cdadaf11310f7d8'\n",
        "client_secret = 'f505511e896d4b8fb4cd27c4e771f9f6'\n",
        "\n",
        "genius = lyricsgenius.Genius('p2U70gp0xq5TWV10R8iJXI5uz4DjNseRup1FA63S8-3ZgQBOMyCneDzCew89BXVb')\n",
        "\n",
        "spotify = SpotifyAPI(client_id, client_secret)"
      ],
      "execution_count": null,
      "outputs": []
    },
    {
      "cell_type": "code",
      "metadata": {
        "id": "I_Mee9_aHOT9",
        "colab_type": "code",
        "colab": {}
      },
      "source": [
        "genius.verbose = False # Turn off status messages\n",
        "genius.remove_section_headers = True # Remove section headers (e.g. [Chorus]) from lyrics when searching\n",
        "genius.excluded_terms = [\"(Remix)\", \"(Live)\"]"
      ],
      "execution_count": null,
      "outputs": []
    },
    {
      "cell_type": "code",
      "metadata": {
        "id": "blSnyKTbloXi",
        "colab_type": "code",
        "colab": {}
      },
      "source": [
        "def preprocess_df(df,query):\n",
        "\n",
        "  \"\"\" This function is used to preprocess the given \n",
        "      dataframe\n",
        "\n",
        "      Arguments :\n",
        "        1) df(DataFrame) : The dataframe to be preprocessed\n",
        "        2) query(str)    : The type of genre\n",
        "\n",
        "      Returns : \n",
        "        The preprocessed dataframe\n",
        "\n",
        "  \"\"\"\n",
        "  df.drop_duplicates(keep='first',inplace=True)\n",
        "  df.reset_index(drop=True,inplace=True)\n",
        "  df.rename(columns={'artist':'Artist','song':'Song'},inplace=True)\n",
        "  print('Number of songs returned by the Spotify API of genre {}\\\n",
        "  is {}'.format(query.upper(),len(df)))\n",
        "\n",
        "  return df"
      ],
      "execution_count": null,
      "outputs": []
    },
    {
      "cell_type": "code",
      "metadata": {
        "id": "YywA8qlS9TbE",
        "colab_type": "code",
        "colab": {}
      },
      "source": [
        "def get_song_name(query,search_type):\n",
        "\n",
        "  \"\"\" This function is used to return the song titles \n",
        "      and also the artist names correspoding to each \n",
        "      query and type.\n",
        "\n",
        "      Arguments:\n",
        "\n",
        "        1) query(str) : The type of genre.\n",
        "        2) search_type(str)  : The form in which the \n",
        "                               songs are returned.\n",
        "\n",
        "      Returns:\n",
        "\n",
        "        A list of dictionaries containing the song name\n",
        "        and it's corresponding artists.\n",
        "\n",
        "  \"\"\"\n",
        "  play_data = spotify.search(query = query, search_type = search_type)\n",
        "  list_of_songs = []\n",
        "\n",
        "  for i in range(len(play_data['playlists']['items'])):\n",
        "    track_data = spotify.get_playlist_tracks(play_data['playlists']['items']\n",
        "                                             [i]['id'])\n",
        "\n",
        "    for j in range(len(track_data['items'])-1):     \n",
        "      songs_and_artists={}\n",
        "      try:\n",
        "        songs_and_artists['artist'] = track_data['items'][j+1]['track'] \\\n",
        "                                                ['artists'][0]['name']\n",
        "      except:\n",
        "        songs_and_artists['artist'] = 'None' \n",
        "      try:\n",
        "        songs_and_artists['song']=track_data['items'][j+1]['track']['name']\n",
        "      except:\n",
        "        songs_and_artists['song'] = 'None'\n",
        "\n",
        "      list_of_songs.append(songs_and_artists)      \n",
        "\n",
        "  final_list = [i for i in list_of_songs if not (i['artist'] == 'None' or \n",
        "                                                 i['song'] == 'None')]\n",
        "  df_final = pd.DataFrame(final_list)\n",
        "  \n",
        "  return preprocess_df(df_final,query) "
      ],
      "execution_count": null,
      "outputs": []
    },
    {
      "cell_type": "code",
      "metadata": {
        "id": "BCYxorzDF23P",
        "colab_type": "code",
        "colab": {}
      },
      "source": [
        "#def genius_api(artist_name,song_name):\n",
        "\n",
        "  \"\"\" This function is used to return the lyrics of a song \n",
        "      using the GeniusAPI.\n",
        "\n",
        "      Arguments :\n",
        "\n",
        "        1) artist_name(str) : Name of the artist.\n",
        "        2) song_name(str)   : Name of the song.\n",
        "\n",
        "     Returns :\n",
        "\n",
        "       The lyrics of the song\n",
        "\n",
        "  \"\"\"\n",
        "  #try:\n",
        "   # song = genius.search_song(song_name,artist_name,get_full_info=True)\n",
        "    #lyrics = song.lyrics\n",
        "  #except:\n",
        "   # lyrics = np.nan\n",
        "\n",
        "  #return lyrics"
      ],
      "execution_count": null,
      "outputs": []
    },
    {
      "cell_type": "code",
      "metadata": {
        "id": "jTVPGrkP8MYI",
        "colab_type": "code",
        "colab": {}
      },
      "source": [
        "def genius_api(artist_name,song_name):\n",
        "\n",
        "  \"\"\" This function is used to return the lyrics of a song \n",
        "      using the GeniusAPI.\n",
        "\n",
        "      Arguments :\n",
        "\n",
        "        1) artist_name(str) : Name of the artist.\n",
        "        2) song_name(str)   : Name of the song.\n",
        "\n",
        "      Returns :\n",
        "\n",
        "        The lyrics of the song\n",
        "\n",
        "  \"\"\"\n",
        "  try:\n",
        "    song = genius.search_song(song_name,\n",
        "                            artist_name,\n",
        "                            get_full_info=False)\n",
        "    lyrics = song.lyrics\n",
        "    \n",
        "  except requests.exceptions.Timeout:\n",
        "    return np.nan\n",
        "\n",
        "  except AttributeError:\n",
        "    i = 0\n",
        "    while song is None:\n",
        "      if i == 5:\n",
        "        return np.nan\n",
        "        break\n",
        "      song = genius.search_song(song_name,\n",
        "                                artist_name,\n",
        "                                get_full_info=False)\n",
        "      i+=1\n",
        "      if song is not None:\n",
        "        lyrics= song.lyrics\n",
        "        break\n",
        "\n",
        "  return lyrics"
      ],
      "execution_count": null,
      "outputs": []
    },
    {
      "cell_type": "code",
      "metadata": {
        "id": "tMD1N76Kj352",
        "colab_type": "code",
        "colab": {}
      },
      "source": [
        "def get_song_lyrics(df,p=50):\n",
        "\n",
        "  \"\"\" This function is used to get the song lyrics using \n",
        "      multiprocessing.\n",
        "\n",
        "      Arguments:\n",
        "        \n",
        "        1) df(DataFrame) : The dataset to do multiprocessing on.\n",
        "        2) p(int)        : The number of processes.\n",
        "\n",
        "      Returns :\n",
        "\n",
        "        The dataframe which contains the lyrics.\n",
        "\n",
        "  \"\"\"\n",
        "  #with multiprocessing.dummy.Pool(processes=p) as pool:\n",
        "  pool = multiprocessing.Pool(50)\n",
        "  df['Lyrics'] = pool.starmap(genius_api,\n",
        "                              zip(df['Artist'],df['Song']))\n",
        "  pool.terminate()\n",
        "  pool.join()\n",
        "\n",
        "  return df"
      ],
      "execution_count": null,
      "outputs": []
    },
    {
      "cell_type": "code",
      "metadata": {
        "id": "3K9jMrASFsef",
        "colab_type": "code",
        "colab": {
          "base_uri": "https://localhost:8080/",
          "height": 52
        },
        "outputId": "3fcfd5d7-2b59-4e90-86e9-9d6b706e314b"
      },
      "source": [
        "#Getting the song names of genre 'Love'\n",
        "df_title_love = get_song_name('love','playlist')"
      ],
      "execution_count": null,
      "outputs": [
        {
          "output_type": "stream",
          "text": [
            "q=love&type=playlist&limit=50\n",
            "Number of songs returned by the Spotify API of genre LOVE  is 3021\n"
          ],
          "name": "stdout"
        }
      ]
    },
    {
      "cell_type": "code",
      "metadata": {
        "id": "cJoKubnW66OL",
        "colab_type": "code",
        "colab": {
          "base_uri": "https://localhost:8080/",
          "height": 202
        },
        "outputId": "4bb05c41-50c4-4911-ae8d-0a2f09e6ab60"
      },
      "source": [
        "df_title_love.tail()"
      ],
      "execution_count": null,
      "outputs": [
        {
          "output_type": "execute_result",
          "data": {
            "text/html": [
              "<div>\n",
              "<style scoped>\n",
              "    .dataframe tbody tr th:only-of-type {\n",
              "        vertical-align: middle;\n",
              "    }\n",
              "\n",
              "    .dataframe tbody tr th {\n",
              "        vertical-align: top;\n",
              "    }\n",
              "\n",
              "    .dataframe thead th {\n",
              "        text-align: right;\n",
              "    }\n",
              "</style>\n",
              "<table border=\"1\" class=\"dataframe\">\n",
              "  <thead>\n",
              "    <tr style=\"text-align: right;\">\n",
              "      <th></th>\n",
              "      <th>Artist</th>\n",
              "      <th>Song</th>\n",
              "    </tr>\n",
              "  </thead>\n",
              "  <tbody>\n",
              "    <tr>\n",
              "      <th>3016</th>\n",
              "      <td>Skylar Belice</td>\n",
              "      <td>Bad for You</td>\n",
              "    </tr>\n",
              "    <tr>\n",
              "      <th>3017</th>\n",
              "      <td>The Script</td>\n",
              "      <td>Breakeven</td>\n",
              "    </tr>\n",
              "    <tr>\n",
              "      <th>3018</th>\n",
              "      <td>Josephina</td>\n",
              "      <td>Dope Girl</td>\n",
              "    </tr>\n",
              "    <tr>\n",
              "      <th>3019</th>\n",
              "      <td>Sam Smith</td>\n",
              "      <td>Too Good At Goodbyes</td>\n",
              "    </tr>\n",
              "    <tr>\n",
              "      <th>3020</th>\n",
              "      <td>Ananya Birla</td>\n",
              "      <td>Let There Be Love</td>\n",
              "    </tr>\n",
              "  </tbody>\n",
              "</table>\n",
              "</div>"
            ],
            "text/plain": [
              "             Artist                  Song\n",
              "3016  Skylar Belice           Bad for You\n",
              "3017     The Script             Breakeven\n",
              "3018      Josephina             Dope Girl\n",
              "3019      Sam Smith  Too Good At Goodbyes\n",
              "3020   Ananya Birla     Let There Be Love"
            ]
          },
          "metadata": {
            "tags": []
          },
          "execution_count": 25
        }
      ]
    },
    {
      "cell_type": "code",
      "metadata": {
        "id": "T_Z-prDgJNQ4",
        "colab_type": "code",
        "colab": {
          "base_uri": "https://localhost:8080/",
          "height": 69
        },
        "outputId": "85f57d17-be74-4c72-c76a-f43904aa749c"
      },
      "source": [
        "df_title_love.isnull().sum()"
      ],
      "execution_count": null,
      "outputs": [
        {
          "output_type": "execute_result",
          "data": {
            "text/plain": [
              "Artist    0\n",
              "Song      0\n",
              "dtype: int64"
            ]
          },
          "metadata": {
            "tags": []
          },
          "execution_count": 11
        }
      ]
    },
    {
      "cell_type": "code",
      "metadata": {
        "id": "G6rvGWPbF6WU",
        "colab_type": "code",
        "colab": {}
      },
      "source": [
        "#Getting the song lyrics corresponding to the song name and artist name\n",
        "df_love = get_song_lyrics(df_title_love)"
      ],
      "execution_count": null,
      "outputs": []
    },
    {
      "cell_type": "code",
      "metadata": {
        "id": "9wy3pYRK0D-m",
        "colab_type": "code",
        "colab": {
          "base_uri": "https://localhost:8080/",
          "height": 87
        },
        "outputId": "bcfc10d9-de1e-4257-aa84-2f1dea2bc24c"
      },
      "source": [
        "df_love.isnull().sum()"
      ],
      "execution_count": null,
      "outputs": [
        {
          "output_type": "execute_result",
          "data": {
            "text/plain": [
              "Artist      0\n",
              "Song        0\n",
              "Lyrics    527\n",
              "dtype: int64"
            ]
          },
          "metadata": {
            "tags": []
          },
          "execution_count": 25
        }
      ]
    },
    {
      "cell_type": "code",
      "metadata": {
        "id": "37Kxcu7bMGFr",
        "colab_type": "code",
        "colab": {}
      },
      "source": [
        "df_love.dropna(axis=0,inplace=True)"
      ],
      "execution_count": null,
      "outputs": []
    },
    {
      "cell_type": "code",
      "metadata": {
        "id": "6kfZQmwdMSK1",
        "colab_type": "code",
        "colab": {
          "base_uri": "https://localhost:8080/",
          "height": 202
        },
        "outputId": "51e0d356-fdc1-4dca-8e3c-45d41eba7196"
      },
      "source": [
        "df_love.head()"
      ],
      "execution_count": null,
      "outputs": [
        {
          "output_type": "execute_result",
          "data": {
            "text/html": [
              "<div>\n",
              "<style scoped>\n",
              "    .dataframe tbody tr th:only-of-type {\n",
              "        vertical-align: middle;\n",
              "    }\n",
              "\n",
              "    .dataframe tbody tr th {\n",
              "        vertical-align: top;\n",
              "    }\n",
              "\n",
              "    .dataframe thead th {\n",
              "        text-align: right;\n",
              "    }\n",
              "</style>\n",
              "<table border=\"1\" class=\"dataframe\">\n",
              "  <thead>\n",
              "    <tr style=\"text-align: right;\">\n",
              "      <th></th>\n",
              "      <th>Artist</th>\n",
              "      <th>Song</th>\n",
              "      <th>Lyrics</th>\n",
              "    </tr>\n",
              "  </thead>\n",
              "  <tbody>\n",
              "    <tr>\n",
              "      <th>1</th>\n",
              "      <td>Dan + Shay</td>\n",
              "      <td>I Should Probably Go To Bed</td>\n",
              "      <td>All of my friends finally convinced me to get ...</td>\n",
              "    </tr>\n",
              "    <tr>\n",
              "      <th>2</th>\n",
              "      <td>Lost Frequencies</td>\n",
              "      <td>Don't Leave Me Now</td>\n",
              "      <td>Scene 08: Timber &amp; The Owls\\nScene 09: The TV ...</td>\n",
              "    </tr>\n",
              "    <tr>\n",
              "      <th>4</th>\n",
              "      <td>Joel Corry</td>\n",
              "      <td>Head &amp; Heart (feat. MNEK) - Acoustic</td>\n",
              "      <td>Oh my god, oh my god, this feeling's just begu...</td>\n",
              "    </tr>\n",
              "    <tr>\n",
              "      <th>5</th>\n",
              "      <td>MisterWives</td>\n",
              "      <td>3 small words</td>\n",
              "      <td>Your watch broke\\nAnd I hope that it stopped t...</td>\n",
              "    </tr>\n",
              "    <tr>\n",
              "      <th>6</th>\n",
              "      <td>Emily Burns</td>\n",
              "      <td>I Love You, You're The Worst</td>\n",
              "      <td>Do you string me along for the thrill?\\nKnock ...</td>\n",
              "    </tr>\n",
              "  </tbody>\n",
              "</table>\n",
              "</div>"
            ],
            "text/plain": [
              "             Artist  ...                                             Lyrics\n",
              "1        Dan + Shay  ...  All of my friends finally convinced me to get ...\n",
              "2  Lost Frequencies  ...  Scene 08: Timber & The Owls\\nScene 09: The TV ...\n",
              "4        Joel Corry  ...  Oh my god, oh my god, this feeling's just begu...\n",
              "5       MisterWives  ...  Your watch broke\\nAnd I hope that it stopped t...\n",
              "6       Emily Burns  ...  Do you string me along for the thrill?\\nKnock ...\n",
              "\n",
              "[5 rows x 3 columns]"
            ]
          },
          "metadata": {
            "tags": []
          },
          "execution_count": 30
        }
      ]
    },
    {
      "cell_type": "code",
      "metadata": {
        "id": "AZDj91YqLr4A",
        "colab_type": "code",
        "colab": {}
      },
      "source": [
        "df_love.to_csv('love_genre.csv')"
      ],
      "execution_count": null,
      "outputs": []
    },
    {
      "cell_type": "code",
      "metadata": {
        "id": "uS8eafCIqzaI",
        "colab_type": "code",
        "colab": {
          "base_uri": "https://localhost:8080/",
          "height": 52
        },
        "outputId": "b781212e-90e9-4ad1-a239-5e3ea973beca"
      },
      "source": [
        "#Getting the song names of genre 'Sad'\n",
        "df_title_sad = get_song_name('sad','playlist')"
      ],
      "execution_count": null,
      "outputs": [
        {
          "output_type": "stream",
          "text": [
            "q=sad&type=playlist&limit=50\n",
            "Number of songs returned by the Spotify API of genre SAD  is 2855\n"
          ],
          "name": "stdout"
        }
      ]
    },
    {
      "cell_type": "code",
      "metadata": {
        "id": "qy0yKAzwrbMA",
        "colab_type": "code",
        "colab": {
          "base_uri": "https://localhost:8080/",
          "height": 1000
        },
        "outputId": "ea1954ec-ad4f-491e-d3f7-90671c60f2af"
      },
      "source": [
        "df_title_sad.head(34)"
      ],
      "execution_count": null,
      "outputs": [
        {
          "output_type": "execute_result",
          "data": {
            "text/html": [
              "<div>\n",
              "<style scoped>\n",
              "    .dataframe tbody tr th:only-of-type {\n",
              "        vertical-align: middle;\n",
              "    }\n",
              "\n",
              "    .dataframe tbody tr th {\n",
              "        vertical-align: top;\n",
              "    }\n",
              "\n",
              "    .dataframe thead th {\n",
              "        text-align: right;\n",
              "    }\n",
              "</style>\n",
              "<table border=\"1\" class=\"dataframe\">\n",
              "  <thead>\n",
              "    <tr style=\"text-align: right;\">\n",
              "      <th></th>\n",
              "      <th>Artist</th>\n",
              "      <th>Song</th>\n",
              "    </tr>\n",
              "  </thead>\n",
              "  <tbody>\n",
              "    <tr>\n",
              "      <th>0</th>\n",
              "      <td>NF</td>\n",
              "      <td>Let You Down</td>\n",
              "    </tr>\n",
              "    <tr>\n",
              "      <th>1</th>\n",
              "      <td>Russ</td>\n",
              "      <td>Losin Control</td>\n",
              "    </tr>\n",
              "    <tr>\n",
              "      <th>2</th>\n",
              "      <td>Drake</td>\n",
              "      <td>Doing It Wrong</td>\n",
              "    </tr>\n",
              "    <tr>\n",
              "      <th>3</th>\n",
              "      <td>Khalid</td>\n",
              "      <td>Coaster</td>\n",
              "    </tr>\n",
              "    <tr>\n",
              "      <th>4</th>\n",
              "      <td>Logic</td>\n",
              "      <td>1-800-273-8255</td>\n",
              "    </tr>\n",
              "    <tr>\n",
              "      <th>5</th>\n",
              "      <td>James Arthur</td>\n",
              "      <td>Say You Won't Let Go</td>\n",
              "    </tr>\n",
              "    <tr>\n",
              "      <th>6</th>\n",
              "      <td>The Killers</td>\n",
              "      <td>Just Another Girl</td>\n",
              "    </tr>\n",
              "    <tr>\n",
              "      <th>7</th>\n",
              "      <td>Khalid</td>\n",
              "      <td>Reasons</td>\n",
              "    </tr>\n",
              "    <tr>\n",
              "      <th>8</th>\n",
              "      <td>The Weeknd</td>\n",
              "      <td>Die For You</td>\n",
              "    </tr>\n",
              "    <tr>\n",
              "      <th>9</th>\n",
              "      <td>G-Eazy</td>\n",
              "      <td>Think About You (feat. Quiñ)</td>\n",
              "    </tr>\n",
              "    <tr>\n",
              "      <th>10</th>\n",
              "      <td>Bruno Mars</td>\n",
              "      <td>Talking to the Moon</td>\n",
              "    </tr>\n",
              "    <tr>\n",
              "      <th>11</th>\n",
              "      <td>Bruno Mars</td>\n",
              "      <td>When I Was Your Man</td>\n",
              "    </tr>\n",
              "    <tr>\n",
              "      <th>12</th>\n",
              "      <td>Bruno Mars</td>\n",
              "      <td>It Will Rain</td>\n",
              "    </tr>\n",
              "    <tr>\n",
              "      <th>13</th>\n",
              "      <td>XXXTENTACION</td>\n",
              "      <td>Carry On</td>\n",
              "    </tr>\n",
              "    <tr>\n",
              "      <th>14</th>\n",
              "      <td>XXXTENTACION</td>\n",
              "      <td>Fuck Love (feat. Trippie Redd)</td>\n",
              "    </tr>\n",
              "    <tr>\n",
              "      <th>15</th>\n",
              "      <td>XXXTENTACION</td>\n",
              "      <td>Jocelyn Flores</td>\n",
              "    </tr>\n",
              "    <tr>\n",
              "      <th>16</th>\n",
              "      <td>XXXTENTACION</td>\n",
              "      <td>Everybody Dies In Their Nightmares</td>\n",
              "    </tr>\n",
              "    <tr>\n",
              "      <th>17</th>\n",
              "      <td>Joyner Lucas</td>\n",
              "      <td>I'm Sorry</td>\n",
              "    </tr>\n",
              "    <tr>\n",
              "      <th>18</th>\n",
              "      <td>Ed Sheeran</td>\n",
              "      <td>Happier</td>\n",
              "    </tr>\n",
              "    <tr>\n",
              "      <th>19</th>\n",
              "      <td>NF</td>\n",
              "      <td>How Could You Leave Us</td>\n",
              "    </tr>\n",
              "    <tr>\n",
              "      <th>20</th>\n",
              "      <td>Labrinth</td>\n",
              "      <td>Jealous</td>\n",
              "    </tr>\n",
              "    <tr>\n",
              "      <th>21</th>\n",
              "      <td>Lil Wayne</td>\n",
              "      <td>Mirror</td>\n",
              "    </tr>\n",
              "    <tr>\n",
              "      <th>22</th>\n",
              "      <td>Russ</td>\n",
              "      <td>Scared</td>\n",
              "    </tr>\n",
              "    <tr>\n",
              "      <th>23</th>\n",
              "      <td>Harry Styles</td>\n",
              "      <td>Sign of the Times</td>\n",
              "    </tr>\n",
              "    <tr>\n",
              "      <th>24</th>\n",
              "      <td>Post Malone</td>\n",
              "      <td>Feeling Whitney</td>\n",
              "    </tr>\n",
              "    <tr>\n",
              "      <th>25</th>\n",
              "      <td>Alextbh</td>\n",
              "      <td>Stoop So Low</td>\n",
              "    </tr>\n",
              "    <tr>\n",
              "      <th>26</th>\n",
              "      <td>PARTYNEXTDOOR</td>\n",
              "      <td>Come and See Me (feat. Drake)</td>\n",
              "    </tr>\n",
              "    <tr>\n",
              "      <th>27</th>\n",
              "      <td>Kendrick Lamar</td>\n",
              "      <td>LOVE. FEAT. ZACARI.</td>\n",
              "    </tr>\n",
              "    <tr>\n",
              "      <th>28</th>\n",
              "      <td>Russ</td>\n",
              "      <td>Psycho, Pt. 2</td>\n",
              "    </tr>\n",
              "    <tr>\n",
              "      <th>29</th>\n",
              "      <td>Hailee Steinfeld</td>\n",
              "      <td>Let Me Go (with Alesso, Florida Georgia Line &amp;...</td>\n",
              "    </tr>\n",
              "    <tr>\n",
              "      <th>30</th>\n",
              "      <td>SZA</td>\n",
              "      <td>Love Galore (feat. Travis Scott)</td>\n",
              "    </tr>\n",
              "    <tr>\n",
              "      <th>31</th>\n",
              "      <td>Post Malone</td>\n",
              "      <td>Leave</td>\n",
              "    </tr>\n",
              "    <tr>\n",
              "      <th>32</th>\n",
              "      <td>Russ</td>\n",
              "      <td>Ride Slow</td>\n",
              "    </tr>\n",
              "    <tr>\n",
              "      <th>33</th>\n",
              "      <td>Phora</td>\n",
              "      <td>Fake Smiles</td>\n",
              "    </tr>\n",
              "  </tbody>\n",
              "</table>\n",
              "</div>"
            ],
            "text/plain": [
              "              Artist                                               Song\n",
              "0                 NF                                       Let You Down\n",
              "1               Russ                                      Losin Control\n",
              "2              Drake                                     Doing It Wrong\n",
              "3             Khalid                                            Coaster\n",
              "4              Logic                                     1-800-273-8255\n",
              "5       James Arthur                               Say You Won't Let Go\n",
              "6        The Killers                                  Just Another Girl\n",
              "7             Khalid                                            Reasons\n",
              "8         The Weeknd                                        Die For You\n",
              "9             G-Eazy                       Think About You (feat. Quiñ)\n",
              "10        Bruno Mars                                Talking to the Moon\n",
              "11        Bruno Mars                                When I Was Your Man\n",
              "12        Bruno Mars                                       It Will Rain\n",
              "13      XXXTENTACION                                           Carry On\n",
              "14      XXXTENTACION                     Fuck Love (feat. Trippie Redd)\n",
              "15      XXXTENTACION                                     Jocelyn Flores\n",
              "16      XXXTENTACION                 Everybody Dies In Their Nightmares\n",
              "17      Joyner Lucas                                          I'm Sorry\n",
              "18        Ed Sheeran                                            Happier\n",
              "19                NF                             How Could You Leave Us\n",
              "20          Labrinth                                            Jealous\n",
              "21         Lil Wayne                                             Mirror\n",
              "22              Russ                                             Scared\n",
              "23      Harry Styles                                  Sign of the Times\n",
              "24       Post Malone                                    Feeling Whitney\n",
              "25           Alextbh                                       Stoop So Low\n",
              "26     PARTYNEXTDOOR                      Come and See Me (feat. Drake)\n",
              "27    Kendrick Lamar                                LOVE. FEAT. ZACARI.\n",
              "28              Russ                                      Psycho, Pt. 2\n",
              "29  Hailee Steinfeld  Let Me Go (with Alesso, Florida Georgia Line &...\n",
              "30               SZA                   Love Galore (feat. Travis Scott)\n",
              "31       Post Malone                                              Leave\n",
              "32              Russ                                          Ride Slow\n",
              "33             Phora                                        Fake Smiles"
            ]
          },
          "metadata": {
            "tags": []
          },
          "execution_count": 14
        }
      ]
    },
    {
      "cell_type": "code",
      "metadata": {
        "id": "oihKRM3c_G0W",
        "colab_type": "code",
        "colab": {}
      },
      "source": [
        "#Getting the song lyrics corresponding to the song name and artist name\n",
        "df_sad = get_song_lyrics(df_title_sad)"
      ],
      "execution_count": null,
      "outputs": []
    },
    {
      "cell_type": "code",
      "metadata": {
        "id": "DjiFGUpdsiyy",
        "colab_type": "code",
        "colab": {
          "base_uri": "https://localhost:8080/",
          "height": 785
        },
        "outputId": "41863786-bb02-4f00-e537-597442040057"
      },
      "source": [
        "df_sad.head(24)"
      ],
      "execution_count": null,
      "outputs": [
        {
          "output_type": "execute_result",
          "data": {
            "text/html": [
              "<div>\n",
              "<style scoped>\n",
              "    .dataframe tbody tr th:only-of-type {\n",
              "        vertical-align: middle;\n",
              "    }\n",
              "\n",
              "    .dataframe tbody tr th {\n",
              "        vertical-align: top;\n",
              "    }\n",
              "\n",
              "    .dataframe thead th {\n",
              "        text-align: right;\n",
              "    }\n",
              "</style>\n",
              "<table border=\"1\" class=\"dataframe\">\n",
              "  <thead>\n",
              "    <tr style=\"text-align: right;\">\n",
              "      <th></th>\n",
              "      <th>Artist</th>\n",
              "      <th>Song</th>\n",
              "      <th>Lyrics</th>\n",
              "    </tr>\n",
              "  </thead>\n",
              "  <tbody>\n",
              "    <tr>\n",
              "      <th>0</th>\n",
              "      <td>NF</td>\n",
              "      <td>Let You Down</td>\n",
              "      <td>Feels like we're on the edge right now\\nI wish...</td>\n",
              "    </tr>\n",
              "    <tr>\n",
              "      <th>1</th>\n",
              "      <td>Russ</td>\n",
              "      <td>Losin Control</td>\n",
              "      <td>She's falling in love now, losing control now\\...</td>\n",
              "    </tr>\n",
              "    <tr>\n",
              "      <th>2</th>\n",
              "      <td>Drake</td>\n",
              "      <td>Doing It Wrong</td>\n",
              "      <td>When a good thing goes bad it's not the end of...</td>\n",
              "    </tr>\n",
              "    <tr>\n",
              "      <th>3</th>\n",
              "      <td>Khalid</td>\n",
              "      <td>Coaster</td>\n",
              "      <td>As time passes, I feel so low\\nSearchin' for p...</td>\n",
              "    </tr>\n",
              "    <tr>\n",
              "      <th>4</th>\n",
              "      <td>Logic</td>\n",
              "      <td>1-800-273-8255</td>\n",
              "      <td>I've been on the low, I been taking my time\\nI...</td>\n",
              "    </tr>\n",
              "    <tr>\n",
              "      <th>5</th>\n",
              "      <td>James Arthur</td>\n",
              "      <td>Say You Won't Let Go</td>\n",
              "      <td>I met you in the dark\\nYou lit me up\\nYou made...</td>\n",
              "    </tr>\n",
              "    <tr>\n",
              "      <th>6</th>\n",
              "      <td>The Killers</td>\n",
              "      <td>Just Another Girl</td>\n",
              "      <td>Step out into the Indian dust\\nI can feel the ...</td>\n",
              "    </tr>\n",
              "    <tr>\n",
              "      <th>7</th>\n",
              "      <td>Khalid</td>\n",
              "      <td>Reasons</td>\n",
              "      <td>Evade my intellect\\nFeed into my introspect\\nW...</td>\n",
              "    </tr>\n",
              "    <tr>\n",
              "      <th>8</th>\n",
              "      <td>The Weeknd</td>\n",
              "      <td>Die For You</td>\n",
              "      <td>I'm findin' ways to articulate the feeling I'm...</td>\n",
              "    </tr>\n",
              "    <tr>\n",
              "      <th>9</th>\n",
              "      <td>G-Eazy</td>\n",
              "      <td>Think About You (feat. Quiñ)</td>\n",
              "      <td>'Cause I do\\n'Cause I do\\n'Cause I do\\nKeep wr...</td>\n",
              "    </tr>\n",
              "    <tr>\n",
              "      <th>10</th>\n",
              "      <td>Bruno Mars</td>\n",
              "      <td>Talking to the Moon</td>\n",
              "      <td>I know you're somewhere out there\\nSomewhere f...</td>\n",
              "    </tr>\n",
              "    <tr>\n",
              "      <th>11</th>\n",
              "      <td>Bruno Mars</td>\n",
              "      <td>When I Was Your Man</td>\n",
              "      <td>Same bed but it feels just a little bit bigger...</td>\n",
              "    </tr>\n",
              "    <tr>\n",
              "      <th>12</th>\n",
              "      <td>Bruno Mars</td>\n",
              "      <td>It Will Rain</td>\n",
              "      <td>If you ever leave me, baby\\nLeave some morphin...</td>\n",
              "    </tr>\n",
              "    <tr>\n",
              "      <th>13</th>\n",
              "      <td>XXXTENTACION</td>\n",
              "      <td>Carry On</td>\n",
              "      <td>How did you get here?\\nI'm drunk and confused\\...</td>\n",
              "    </tr>\n",
              "    <tr>\n",
              "      <th>14</th>\n",
              "      <td>XXXTENTACION</td>\n",
              "      <td>Fuck Love (feat. Trippie Redd)</td>\n",
              "      <td>NaN</td>\n",
              "    </tr>\n",
              "    <tr>\n",
              "      <th>15</th>\n",
              "      <td>XXXTENTACION</td>\n",
              "      <td>Jocelyn Flores</td>\n",
              "      <td>I know you so well, so well\\nI mean, I can do ...</td>\n",
              "    </tr>\n",
              "    <tr>\n",
              "      <th>16</th>\n",
              "      <td>XXXTENTACION</td>\n",
              "      <td>Everybody Dies In Their Nightmares</td>\n",
              "      <td>Ooh, ahh, ahh, ahh\\nDon't go, don't go to slee...</td>\n",
              "    </tr>\n",
              "    <tr>\n",
              "      <th>17</th>\n",
              "      <td>Joyner Lucas</td>\n",
              "      <td>I'm Sorry</td>\n",
              "      <td>Go ahead and call me a coward\\nSay that I'm no...</td>\n",
              "    </tr>\n",
              "    <tr>\n",
              "      <th>18</th>\n",
              "      <td>Ed Sheeran</td>\n",
              "      <td>Happier</td>\n",
              "      <td>Walking down 29th and park\\nI saw you in anoth...</td>\n",
              "    </tr>\n",
              "    <tr>\n",
              "      <th>19</th>\n",
              "      <td>NF</td>\n",
              "      <td>How Could You Leave Us</td>\n",
              "      <td>How could you leave so unexpected?\\nWe waited,...</td>\n",
              "    </tr>\n",
              "    <tr>\n",
              "      <th>20</th>\n",
              "      <td>Labrinth</td>\n",
              "      <td>Jealous</td>\n",
              "      <td>I'm jealous of the rain\\nThat falls upon your ...</td>\n",
              "    </tr>\n",
              "    <tr>\n",
              "      <th>21</th>\n",
              "      <td>Lil Wayne</td>\n",
              "      <td>Mirror</td>\n",
              "      <td>Uh, with everything happening today\\nYou don't...</td>\n",
              "    </tr>\n",
              "    <tr>\n",
              "      <th>22</th>\n",
              "      <td>Russ</td>\n",
              "      <td>Scared</td>\n",
              "      <td>Take my hand and rock it real slow\\nI wanna fe...</td>\n",
              "    </tr>\n",
              "    <tr>\n",
              "      <th>23</th>\n",
              "      <td>Harry Styles</td>\n",
              "      <td>Sign of the Times</td>\n",
              "      <td>Just stop your crying, it's a sign of the time...</td>\n",
              "    </tr>\n",
              "  </tbody>\n",
              "</table>\n",
              "</div>"
            ],
            "text/plain": [
              "          Artist  ...                                             Lyrics\n",
              "0             NF  ...  Feels like we're on the edge right now\\nI wish...\n",
              "1           Russ  ...  She's falling in love now, losing control now\\...\n",
              "2          Drake  ...  When a good thing goes bad it's not the end of...\n",
              "3         Khalid  ...  As time passes, I feel so low\\nSearchin' for p...\n",
              "4          Logic  ...  I've been on the low, I been taking my time\\nI...\n",
              "5   James Arthur  ...  I met you in the dark\\nYou lit me up\\nYou made...\n",
              "6    The Killers  ...  Step out into the Indian dust\\nI can feel the ...\n",
              "7         Khalid  ...  Evade my intellect\\nFeed into my introspect\\nW...\n",
              "8     The Weeknd  ...  I'm findin' ways to articulate the feeling I'm...\n",
              "9         G-Eazy  ...  'Cause I do\\n'Cause I do\\n'Cause I do\\nKeep wr...\n",
              "10    Bruno Mars  ...  I know you're somewhere out there\\nSomewhere f...\n",
              "11    Bruno Mars  ...  Same bed but it feels just a little bit bigger...\n",
              "12    Bruno Mars  ...  If you ever leave me, baby\\nLeave some morphin...\n",
              "13  XXXTENTACION  ...  How did you get here?\\nI'm drunk and confused\\...\n",
              "14  XXXTENTACION  ...                                                NaN\n",
              "15  XXXTENTACION  ...  I know you so well, so well\\nI mean, I can do ...\n",
              "16  XXXTENTACION  ...  Ooh, ahh, ahh, ahh\\nDon't go, don't go to slee...\n",
              "17  Joyner Lucas  ...  Go ahead and call me a coward\\nSay that I'm no...\n",
              "18    Ed Sheeran  ...  Walking down 29th and park\\nI saw you in anoth...\n",
              "19            NF  ...  How could you leave so unexpected?\\nWe waited,...\n",
              "20      Labrinth  ...  I'm jealous of the rain\\nThat falls upon your ...\n",
              "21     Lil Wayne  ...  Uh, with everything happening today\\nYou don't...\n",
              "22          Russ  ...  Take my hand and rock it real slow\\nI wanna fe...\n",
              "23  Harry Styles  ...  Just stop your crying, it's a sign of the time...\n",
              "\n",
              "[24 rows x 3 columns]"
            ]
          },
          "metadata": {
            "tags": []
          },
          "execution_count": 17
        }
      ]
    },
    {
      "cell_type": "code",
      "metadata": {
        "id": "KqREByJBsy76",
        "colab_type": "code",
        "colab": {
          "base_uri": "https://localhost:8080/",
          "height": 87
        },
        "outputId": "630e9fbd-7039-4960-b9e2-3408906731a2"
      },
      "source": [
        "df_sad.isnull().sum()"
      ],
      "execution_count": null,
      "outputs": [
        {
          "output_type": "execute_result",
          "data": {
            "text/plain": [
              "Artist      0\n",
              "Song        0\n",
              "Lyrics    555\n",
              "dtype: int64"
            ]
          },
          "metadata": {
            "tags": []
          },
          "execution_count": 19
        }
      ]
    },
    {
      "cell_type": "code",
      "metadata": {
        "id": "7XQjd7H5B_N3",
        "colab_type": "code",
        "colab": {}
      },
      "source": [
        "df_sad.to_csv('sad_genre.csv')"
      ],
      "execution_count": null,
      "outputs": []
    },
    {
      "cell_type": "code",
      "metadata": {
        "id": "eluHVtDT-sV-",
        "colab_type": "code",
        "colab": {
          "base_uri": "https://localhost:8080/",
          "height": 52
        },
        "outputId": "df6c631b-89a7-4b86-beb0-14a8a94b5c39"
      },
      "source": [
        "#Getting the song name of genre 'Motivation'\n",
        "df_title_motivation = get_song_name('motivation','playlist')"
      ],
      "execution_count": null,
      "outputs": [
        {
          "output_type": "stream",
          "text": [
            "q=motivation&type=playlist&limit=50\n",
            "Number of songs returned by the Spotify API of genre MOTIVATION  is 2831\n"
          ],
          "name": "stdout"
        }
      ]
    },
    {
      "cell_type": "code",
      "metadata": {
        "id": "z6ptsgaK_mAB",
        "colab_type": "code",
        "colab": {
          "base_uri": "https://localhost:8080/",
          "height": 202
        },
        "outputId": "a8afd6bc-eafe-4fbc-d144-759e09f45e79"
      },
      "source": [
        "df_title_motivation.head()"
      ],
      "execution_count": null,
      "outputs": [
        {
          "output_type": "execute_result",
          "data": {
            "text/html": [
              "<div>\n",
              "<style scoped>\n",
              "    .dataframe tbody tr th:only-of-type {\n",
              "        vertical-align: middle;\n",
              "    }\n",
              "\n",
              "    .dataframe tbody tr th {\n",
              "        vertical-align: top;\n",
              "    }\n",
              "\n",
              "    .dataframe thead th {\n",
              "        text-align: right;\n",
              "    }\n",
              "</style>\n",
              "<table border=\"1\" class=\"dataframe\">\n",
              "  <thead>\n",
              "    <tr style=\"text-align: right;\">\n",
              "      <th></th>\n",
              "      <th>Artist</th>\n",
              "      <th>Song</th>\n",
              "    </tr>\n",
              "  </thead>\n",
              "  <tbody>\n",
              "    <tr>\n",
              "      <th>0</th>\n",
              "      <td>Lost Frequencies</td>\n",
              "      <td>Don't Leave Me Now</td>\n",
              "    </tr>\n",
              "    <tr>\n",
              "      <th>1</th>\n",
              "      <td>BUNT.</td>\n",
              "      <td>Unbreakable (feat. Clarence Coffee Jr.)</td>\n",
              "    </tr>\n",
              "    <tr>\n",
              "      <th>2</th>\n",
              "      <td>Dua Lipa</td>\n",
              "      <td>Hallucinate - Paul Woolford Remix</td>\n",
              "    </tr>\n",
              "    <tr>\n",
              "      <th>3</th>\n",
              "      <td>Sam Feldt</td>\n",
              "      <td>You Should Know (feat. Craig Smart)</td>\n",
              "    </tr>\n",
              "    <tr>\n",
              "      <th>4</th>\n",
              "      <td>Bob Marley &amp; The Wailers</td>\n",
              "      <td>Sun Is Shining</td>\n",
              "    </tr>\n",
              "  </tbody>\n",
              "</table>\n",
              "</div>"
            ],
            "text/plain": [
              "                     Artist                                     Song\n",
              "0          Lost Frequencies                       Don't Leave Me Now\n",
              "1                     BUNT.  Unbreakable (feat. Clarence Coffee Jr.)\n",
              "2                  Dua Lipa        Hallucinate - Paul Woolford Remix\n",
              "3                 Sam Feldt      You Should Know (feat. Craig Smart)\n",
              "4  Bob Marley & The Wailers                           Sun Is Shining"
            ]
          },
          "metadata": {
            "tags": []
          },
          "execution_count": 22
        }
      ]
    },
    {
      "cell_type": "code",
      "metadata": {
        "id": "ekCHwKcA_AGA",
        "colab_type": "code",
        "colab": {}
      },
      "source": [
        "#Getting song lyrics corresponding to the song name and artist\n",
        "df_title = get_song_lyrics(df_title_motivation)"
      ],
      "execution_count": null,
      "outputs": []
    },
    {
      "cell_type": "code",
      "metadata": {
        "id": "g2tzWPrJ_fGY",
        "colab_type": "code",
        "colab": {
          "base_uri": "https://localhost:8080/",
          "height": 202
        },
        "outputId": "f7610002-8353-4709-cd52-18e4864254bb"
      },
      "source": [
        "df_title.head()"
      ],
      "execution_count": null,
      "outputs": [
        {
          "output_type": "execute_result",
          "data": {
            "text/html": [
              "<div>\n",
              "<style scoped>\n",
              "    .dataframe tbody tr th:only-of-type {\n",
              "        vertical-align: middle;\n",
              "    }\n",
              "\n",
              "    .dataframe tbody tr th {\n",
              "        vertical-align: top;\n",
              "    }\n",
              "\n",
              "    .dataframe thead th {\n",
              "        text-align: right;\n",
              "    }\n",
              "</style>\n",
              "<table border=\"1\" class=\"dataframe\">\n",
              "  <thead>\n",
              "    <tr style=\"text-align: right;\">\n",
              "      <th></th>\n",
              "      <th>Artist</th>\n",
              "      <th>Song</th>\n",
              "      <th>Lyrics</th>\n",
              "    </tr>\n",
              "  </thead>\n",
              "  <tbody>\n",
              "    <tr>\n",
              "      <th>0</th>\n",
              "      <td>Lost Frequencies</td>\n",
              "      <td>Don't Leave Me Now</td>\n",
              "      <td>Scene 08: Timber &amp; The Owls\\nScene 09: The TV ...</td>\n",
              "    </tr>\n",
              "    <tr>\n",
              "      <th>1</th>\n",
              "      <td>BUNT.</td>\n",
              "      <td>Unbreakable (feat. Clarence Coffee Jr.)</td>\n",
              "      <td>Renegade by nature, child of the wild\\nWrestli...</td>\n",
              "    </tr>\n",
              "    <tr>\n",
              "      <th>2</th>\n",
              "      <td>Dua Lipa</td>\n",
              "      <td>Hallucinate - Paul Woolford Remix</td>\n",
              "      <td>NaN</td>\n",
              "    </tr>\n",
              "    <tr>\n",
              "      <th>3</th>\n",
              "      <td>Sam Feldt</td>\n",
              "      <td>You Should Know (feat. Craig Smart)</td>\n",
              "      <td>I can't shut off this silence\\nWhen I feel he'...</td>\n",
              "    </tr>\n",
              "    <tr>\n",
              "      <th>4</th>\n",
              "      <td>Bob Marley &amp; The Wailers</td>\n",
              "      <td>Sun Is Shining</td>\n",
              "      <td>Sun is shining, the weather is sweet\\nMake you...</td>\n",
              "    </tr>\n",
              "  </tbody>\n",
              "</table>\n",
              "</div>"
            ],
            "text/plain": [
              "                     Artist  ...                                             Lyrics\n",
              "0          Lost Frequencies  ...  Scene 08: Timber & The Owls\\nScene 09: The TV ...\n",
              "1                     BUNT.  ...  Renegade by nature, child of the wild\\nWrestli...\n",
              "2                  Dua Lipa  ...                                                NaN\n",
              "3                 Sam Feldt  ...  I can't shut off this silence\\nWhen I feel he'...\n",
              "4  Bob Marley & The Wailers  ...  Sun is shining, the weather is sweet\\nMake you...\n",
              "\n",
              "[5 rows x 3 columns]"
            ]
          },
          "metadata": {
            "tags": []
          },
          "execution_count": 24
        }
      ]
    },
    {
      "cell_type": "code",
      "metadata": {
        "id": "H4t1BKXVA8Sq",
        "colab_type": "code",
        "colab": {
          "base_uri": "https://localhost:8080/",
          "height": 191
        },
        "outputId": "76ae2f0a-d106-4bc3-c206-75487ec6edd7"
      },
      "source": [
        "df_title.info()"
      ],
      "execution_count": null,
      "outputs": [
        {
          "output_type": "stream",
          "text": [
            "<class 'pandas.core.frame.DataFrame'>\n",
            "RangeIndex: 2831 entries, 0 to 2830\n",
            "Data columns (total 3 columns):\n",
            " #   Column  Non-Null Count  Dtype \n",
            "---  ------  --------------  ----- \n",
            " 0   Artist  2831 non-null   object\n",
            " 1   Song    2831 non-null   object\n",
            " 2   Lyrics  2220 non-null   object\n",
            "dtypes: object(3)\n",
            "memory usage: 66.5+ KB\n"
          ],
          "name": "stdout"
        }
      ]
    },
    {
      "cell_type": "code",
      "metadata": {
        "id": "2yoxkviLBEQu",
        "colab_type": "code",
        "colab": {
          "base_uri": "https://localhost:8080/",
          "height": 87
        },
        "outputId": "96144dc1-06d4-4112-d857-c7ee5713bb68"
      },
      "source": [
        "df_title.isnull().sum()"
      ],
      "execution_count": null,
      "outputs": [
        {
          "output_type": "execute_result",
          "data": {
            "text/plain": [
              "Artist      0\n",
              "Song        0\n",
              "Lyrics    611\n",
              "dtype: int64"
            ]
          },
          "metadata": {
            "tags": []
          },
          "execution_count": 26
        }
      ]
    },
    {
      "cell_type": "code",
      "metadata": {
        "id": "6lEOD8esBJSu",
        "colab_type": "code",
        "colab": {}
      },
      "source": [
        "df_title.dropna(axis=0,inplace=True)"
      ],
      "execution_count": null,
      "outputs": []
    },
    {
      "cell_type": "code",
      "metadata": {
        "id": "uc55DbkFBUQ_",
        "colab_type": "code",
        "colab": {}
      },
      "source": [
        "df_title.to_csv('motivation_genre.csv')"
      ],
      "execution_count": null,
      "outputs": []
    },
    {
      "cell_type": "code",
      "metadata": {
        "id": "0jGB1qrg0XNb",
        "colab_type": "code",
        "colab": {}
      },
      "source": [
        "import json\n",
        "\n",
        "with open('workout.json', 'w') as json_file:\n",
        "  json.dump(workout, json_file)"
      ],
      "execution_count": null,
      "outputs": []
    },
    {
      "cell_type": "code",
      "metadata": {
        "id": "qZVAGWW2A-y-",
        "colab_type": "code",
        "colab": {}
      },
      "source": [
        "df_"
      ],
      "execution_count": null,
      "outputs": []
    },
    {
      "cell_type": "code",
      "metadata": {
        "id": "hnH2-25lRViw",
        "colab_type": "code",
        "colab": {}
      },
      "source": [
        "import lyricsgenius\n",
        "genius = lyricsgenius.Genius('p2U70gp0xq5TWV10R8iJXI5uz4DjNseRup1FA63S8-3ZgQBOMyCneDzCew89BXVb')"
      ],
      "execution_count": null,
      "outputs": []
    },
    {
      "cell_type": "code",
      "metadata": {
        "id": "4VHglqUnWtV9",
        "colab_type": "code",
        "colab": {}
      },
      "source": [
        "pop = pd.DataFrame({'Artist':['Harry Styles','Bruno Mars','ffgf'],'Song':['Sign of the Times','Talking to the Moon','fdsd']})"
      ],
      "execution_count": null,
      "outputs": []
    }
  ]
}