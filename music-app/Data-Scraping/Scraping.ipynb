{
  "nbformat": 4,
  "nbformat_minor": 0,
  "metadata": {
    "kernelspec": {
      "display_name": "Python 3",
      "language": "python",
      "name": "python3"
    },
    "language_info": {
      "codemirror_mode": {
        "name": "ipython",
        "version": 3
      },
      "file_extension": ".py",
      "mimetype": "text/x-python",
      "name": "python",
      "nbconvert_exporter": "python",
      "pygments_lexer": "ipython3",
      "version": "3.6.10"
    },
    "colab": {
      "name": "Scraping.ipynb",
      "provenance": [],
      "collapsed_sections": []
    }
  },
  "cells": [
    {
      "cell_type": "code",
      "metadata": {
        "id": "hmRLu_qAFOjQ",
        "colab_type": "code",
        "colab": {
          "base_uri": "https://localhost:8080/",
          "height": 159
        },
        "outputId": "9a88962b-cf9a-4e8b-c2cc-28607c208d34"
      },
      "source": [
        "!pip install lyricsgenius"
      ],
      "execution_count": 2,
      "outputs": [
        {
          "output_type": "stream",
          "text": [
            "Requirement already satisfied: lyricsgenius in /usr/local/lib/python3.6/dist-packages (1.8.6)\n",
            "Requirement already satisfied: requests>=2.20.0 in /usr/local/lib/python3.6/dist-packages (from lyricsgenius) (2.23.0)\n",
            "Requirement already satisfied: beautifulsoup4==4.6.0 in /usr/local/lib/python3.6/dist-packages (from lyricsgenius) (4.6.0)\n",
            "Requirement already satisfied: certifi>=2017.4.17 in /usr/local/lib/python3.6/dist-packages (from requests>=2.20.0->lyricsgenius) (2020.6.20)\n",
            "Requirement already satisfied: urllib3!=1.25.0,!=1.25.1,<1.26,>=1.21.1 in /usr/local/lib/python3.6/dist-packages (from requests>=2.20.0->lyricsgenius) (1.24.3)\n",
            "Requirement already satisfied: idna<3,>=2.5 in /usr/local/lib/python3.6/dist-packages (from requests>=2.20.0->lyricsgenius) (2.10)\n",
            "Requirement already satisfied: chardet<4,>=3.0.2 in /usr/local/lib/python3.6/dist-packages (from requests>=2.20.0->lyricsgenius) (3.0.4)\n"
          ],
          "name": "stdout"
        }
      ]
    },
    {
      "cell_type": "code",
      "metadata": {
        "id": "ZQ-wxybTBQBC",
        "colab_type": "code",
        "colab": {
          "base_uri": "https://localhost:8080/",
          "height": 297
        },
        "outputId": "d16ae7f6-cdf1-4be8-beb6-14e8c0be03e2"
      },
      "source": [
        "!pip install googletrans"
      ],
      "execution_count": 3,
      "outputs": [
        {
          "output_type": "stream",
          "text": [
            "Requirement already satisfied: googletrans in /usr/local/lib/python3.6/dist-packages (3.0.0)\n",
            "Requirement already satisfied: httpx==0.13.3 in /usr/local/lib/python3.6/dist-packages (from googletrans) (0.13.3)\n",
            "Requirement already satisfied: rfc3986<2,>=1.3 in /usr/local/lib/python3.6/dist-packages (from httpx==0.13.3->googletrans) (1.4.0)\n",
            "Requirement already satisfied: httpcore==0.9.* in /usr/local/lib/python3.6/dist-packages (from httpx==0.13.3->googletrans) (0.9.1)\n",
            "Requirement already satisfied: hstspreload in /usr/local/lib/python3.6/dist-packages (from httpx==0.13.3->googletrans) (2020.8.12)\n",
            "Requirement already satisfied: chardet==3.* in /usr/local/lib/python3.6/dist-packages (from httpx==0.13.3->googletrans) (3.0.4)\n",
            "Requirement already satisfied: certifi in /usr/local/lib/python3.6/dist-packages (from httpx==0.13.3->googletrans) (2020.6.20)\n",
            "Requirement already satisfied: sniffio in /usr/local/lib/python3.6/dist-packages (from httpx==0.13.3->googletrans) (1.1.0)\n",
            "Requirement already satisfied: idna==2.* in /usr/local/lib/python3.6/dist-packages (from httpx==0.13.3->googletrans) (2.10)\n",
            "Requirement already satisfied: h2==3.* in /usr/local/lib/python3.6/dist-packages (from httpcore==0.9.*->httpx==0.13.3->googletrans) (3.2.0)\n",
            "Requirement already satisfied: h11<0.10,>=0.8 in /usr/local/lib/python3.6/dist-packages (from httpcore==0.9.*->httpx==0.13.3->googletrans) (0.9.0)\n",
            "Requirement already satisfied: contextvars>=2.1; python_version < \"3.7\" in /usr/local/lib/python3.6/dist-packages (from sniffio->httpx==0.13.3->googletrans) (2.4)\n",
            "Requirement already satisfied: hyperframe<6,>=5.2.0 in /usr/local/lib/python3.6/dist-packages (from h2==3.*->httpcore==0.9.*->httpx==0.13.3->googletrans) (5.2.0)\n",
            "Requirement already satisfied: hpack<4,>=3.0 in /usr/local/lib/python3.6/dist-packages (from h2==3.*->httpcore==0.9.*->httpx==0.13.3->googletrans) (3.0.0)\n",
            "Requirement already satisfied: immutables>=0.9 in /usr/local/lib/python3.6/dist-packages (from contextvars>=2.1; python_version < \"3.7\"->sniffio->httpx==0.13.3->googletrans) (0.14)\n"
          ],
          "name": "stdout"
        }
      ]
    },
    {
      "cell_type": "code",
      "metadata": {
        "id": "0zMGpWbTEfuf",
        "colab_type": "code",
        "colab": {}
      },
      "source": [
        "import numpy as np\n",
        "import pandas as pd\n",
        "import json\n",
        "import time\n",
        "import lyricsgenius\n",
        "import  multiprocessing\n",
        "import warnings\n",
        "import random\n",
        "\n",
        "from spotifyclient import SpotifyAPI\n",
        "from googletrans import Translator\n"
      ],
      "execution_count": 4,
      "outputs": []
    },
    {
      "cell_type": "code",
      "metadata": {
        "id": "Agzxu1YNp_bC",
        "colab_type": "code",
        "colab": {}
      },
      "source": [
        "warnings.filterwarnings('ignore')\n",
        "random.seed(5)"
      ],
      "execution_count": 5,
      "outputs": []
    },
    {
      "cell_type": "code",
      "metadata": {
        "id": "jNB5TeaVEfuk",
        "colab_type": "code",
        "colab": {}
      },
      "source": [
        "#Get the client id and client secret from SpotifyAPI\n",
        "client_id = '116037a141a04c628cdadaf11310f7d8'\n",
        "client_secret = 'f505511e896d4b8fb4cd27c4e771f9f6'\n",
        "\n",
        "genius = lyricsgenius.Genius('p2U70gp0xq5TWV10R8iJXI5uz4DjNseRup1FA63S8-3ZgQBOMyCneDzCew89BXVb')\n",
        "\n",
        "spotify = SpotifyAPI(client_id, client_secret)"
      ],
      "execution_count": 6,
      "outputs": []
    },
    {
      "cell_type": "code",
      "metadata": {
        "id": "I_Mee9_aHOT9",
        "colab_type": "code",
        "colab": {}
      },
      "source": [
        "genius.verbose = False # Turn off status messages\n",
        "genius.remove_section_headers = True # Remove section headers (e.g. [Chorus]) from lyrics when searching\n",
        "genius.excluded_terms = [\"(Remix)\", \"(Live)\"]"
      ],
      "execution_count": 7,
      "outputs": []
    },
    {
      "cell_type": "code",
      "metadata": {
        "id": "blSnyKTbloXi",
        "colab_type": "code",
        "colab": {}
      },
      "source": [
        "def preprocess_df(df,query):\n",
        "\n",
        "  \"\"\" This function is used to preprocess the given \n",
        "      dataframe\n",
        "\n",
        "      Arguments :\n",
        "        1) df(DataFrame) : The dataframe to be preprocessed\n",
        "        2) query(str)    : The type of genre\n",
        "\n",
        "      Returns : \n",
        "        The preprocessed dataframe\n",
        "\n",
        "  \"\"\"\n",
        "  df.drop_duplicates(keep='first',inplace=True)\n",
        "  df.reset_index(drop=True,inplace=True)\n",
        "  df.rename(columns={'artist':'Artist','song':'Song'},inplace=True)\n",
        "  print('Number of songs returned by the Spotify API of genre {}\\\n",
        "  is {}'.format(query.upper(),len(df)))\n",
        "\n",
        "  return df"
      ],
      "execution_count": 8,
      "outputs": []
    },
    {
      "cell_type": "code",
      "metadata": {
        "id": "YywA8qlS9TbE",
        "colab_type": "code",
        "colab": {}
      },
      "source": [
        "def get_song_name(query,search_type):\n",
        "\n",
        "  \"\"\" This function is used to return the song titles \n",
        "      and also the artist names correspoding to each \n",
        "      query and type.\n",
        "\n",
        "      Arguments:\n",
        "\n",
        "        1) query(str) : The type of genre.\n",
        "        2) search_type(str)  : The form in which the \n",
        "                               songs are returned.\n",
        "\n",
        "      Returns:\n",
        "\n",
        "        A list of dictionaries containing the song name\n",
        "        and it's corresponding artists.\n",
        "\n",
        "  \"\"\"\n",
        "  play_data = spotify.search(query = query, search_type = search_type)\n",
        "  list_of_songs = []\n",
        "\n",
        "  for i in range(len(play_data['playlists']['items'])):\n",
        "    track_data = spotify.get_playlist_tracks(play_data['playlists']['items']\n",
        "                                             [i]['id'])\n",
        "\n",
        "    for j in range(len(track_data['items'])-1):     \n",
        "      songs_and_artists={}\n",
        "      try:\n",
        "        songs_and_artists['artist'] = track_data['items'][j+1]['track'] \\\n",
        "                                                ['artists'][0]['name']\n",
        "      except:\n",
        "        songs_and_artists['artist'] = 'None' \n",
        "      try:\n",
        "        songs_and_artists['song']=track_data['items'][j+1]['track']['name']\n",
        "      except:\n",
        "        songs_and_artists['song'] = 'None'\n",
        "\n",
        "      list_of_songs.append(songs_and_artists)      \n",
        "\n",
        "  final_list = [i for i in list_of_songs if not (i['artist'] == 'None' or \n",
        "                                                 i['song'] == 'None')]\n",
        "  df_final = pd.DataFrame(final_list)\n",
        "  \n",
        "  return preprocess_df(df_final,query) "
      ],
      "execution_count": 9,
      "outputs": []
    },
    {
      "cell_type": "code",
      "metadata": {
        "id": "BCYxorzDF23P",
        "colab_type": "code",
        "colab": {}
      },
      "source": [
        "#def genius_api(artist_name,song_name):\n",
        "\n",
        "  \"\"\" This function is used to return the lyrics of a song \n",
        "      using the GeniusAPI.\n",
        "\n",
        "      Arguments :\n",
        "\n",
        "        1) artist_name(str) : Name of the artist.\n",
        "        2) song_name(str)   : Name of the song.\n",
        "\n",
        "     Returns :\n",
        "\n",
        "       The lyrics of the song\n",
        "\n",
        "  \"\"\"\n",
        "  #try:\n",
        "   # song = genius.search_song(song_name,artist_name,get_full_info=True)\n",
        "    #lyrics = song.lyrics\n",
        "  #except:\n",
        "   # lyrics = np.nan\n",
        "\n",
        "  #return lyrics"
      ],
      "execution_count": 10,
      "outputs": []
    },
    {
      "cell_type": "code",
      "metadata": {
        "id": "jTVPGrkP8MYI",
        "colab_type": "code",
        "colab": {}
      },
      "source": [
        "def genius_api(artist_name,song_name):\n",
        "\n",
        "  \"\"\" This function is used to return the lyrics of a song \n",
        "      using the GeniusAPI.\n",
        "\n",
        "      Arguments :\n",
        "\n",
        "        1) artist_name(str) : Name of the artist.\n",
        "        2) song_name(str)   : Name of the song.\n",
        "\n",
        "      Returns :\n",
        "\n",
        "        The lyrics of the song\n",
        "\n",
        "  \"\"\"\n",
        "  song = genius.search_song(song_name,\n",
        "                            artist_name,\n",
        "                            get_full_info=False)\n",
        "\n",
        "  try:\n",
        "    lyrics = song.lyrics\n",
        "  except AttributeError:\n",
        "    i = 0\n",
        "    while song is None:\n",
        "      if i == 5:\n",
        "        return np.nan\n",
        "        break\n",
        "      song = genius.search_song(song_name,\n",
        "                                artist_name,\n",
        "                                get_full_info=False)\n",
        "      i+=1\n",
        "      if song is not None:\n",
        "        lyrics= song.lyrics\n",
        "        break\n",
        "\n",
        "  return lyrics"
      ],
      "execution_count": 11,
      "outputs": []
    },
    {
      "cell_type": "code",
      "metadata": {
        "id": "tMD1N76Kj352",
        "colab_type": "code",
        "colab": {}
      },
      "source": [
        "def get_song_lyrics(df,p=50):\n",
        "\n",
        "  \"\"\" This function is used to get the song lyrics using \n",
        "      multiprocessing.\n",
        "\n",
        "      Arguments:\n",
        "        \n",
        "        1) df(DataFrame) : The dataset to do multiprocessing on.\n",
        "        2) p(int)        : The number of processes.\n",
        "\n",
        "      Returns :\n",
        "\n",
        "        The dataframe which contains the lyrics.\n",
        "\n",
        "  \"\"\"\n",
        "  #with multiprocessing.dummy.Pool(processes=p) as pool:\n",
        "  pool = multiprocessing.Pool(50)\n",
        "  df['Lyrics'] = pool.starmap(genius_api,\n",
        "                              zip(df['Artist'],df['Song']))\n",
        "  pool.terminate()\n",
        "  pool.join()\n",
        "\n",
        "  return df"
      ],
      "execution_count": 12,
      "outputs": []
    },
    {
      "cell_type": "code",
      "metadata": {
        "id": "3K9jMrASFsef",
        "colab_type": "code",
        "colab": {
          "base_uri": "https://localhost:8080/",
          "height": 52
        },
        "outputId": "3fcfd5d7-2b59-4e90-86e9-9d6b706e314b"
      },
      "source": [
        "#Getting the song names of genre 'Love'\n",
        "df_title_love = get_song_name('love','playlist')"
      ],
      "execution_count": null,
      "outputs": [
        {
          "output_type": "stream",
          "text": [
            "q=love&type=playlist&limit=50\n",
            "Number of songs returned by the Spotify API of genre LOVE  is 3021\n"
          ],
          "name": "stdout"
        }
      ]
    },
    {
      "cell_type": "code",
      "metadata": {
        "id": "cJoKubnW66OL",
        "colab_type": "code",
        "colab": {
          "base_uri": "https://localhost:8080/",
          "height": 202
        },
        "outputId": "4bb05c41-50c4-4911-ae8d-0a2f09e6ab60"
      },
      "source": [
        "df_title_love.tail()"
      ],
      "execution_count": null,
      "outputs": [
        {
          "output_type": "execute_result",
          "data": {
            "text/html": [
              "<div>\n",
              "<style scoped>\n",
              "    .dataframe tbody tr th:only-of-type {\n",
              "        vertical-align: middle;\n",
              "    }\n",
              "\n",
              "    .dataframe tbody tr th {\n",
              "        vertical-align: top;\n",
              "    }\n",
              "\n",
              "    .dataframe thead th {\n",
              "        text-align: right;\n",
              "    }\n",
              "</style>\n",
              "<table border=\"1\" class=\"dataframe\">\n",
              "  <thead>\n",
              "    <tr style=\"text-align: right;\">\n",
              "      <th></th>\n",
              "      <th>Artist</th>\n",
              "      <th>Song</th>\n",
              "    </tr>\n",
              "  </thead>\n",
              "  <tbody>\n",
              "    <tr>\n",
              "      <th>3016</th>\n",
              "      <td>Skylar Belice</td>\n",
              "      <td>Bad for You</td>\n",
              "    </tr>\n",
              "    <tr>\n",
              "      <th>3017</th>\n",
              "      <td>The Script</td>\n",
              "      <td>Breakeven</td>\n",
              "    </tr>\n",
              "    <tr>\n",
              "      <th>3018</th>\n",
              "      <td>Josephina</td>\n",
              "      <td>Dope Girl</td>\n",
              "    </tr>\n",
              "    <tr>\n",
              "      <th>3019</th>\n",
              "      <td>Sam Smith</td>\n",
              "      <td>Too Good At Goodbyes</td>\n",
              "    </tr>\n",
              "    <tr>\n",
              "      <th>3020</th>\n",
              "      <td>Ananya Birla</td>\n",
              "      <td>Let There Be Love</td>\n",
              "    </tr>\n",
              "  </tbody>\n",
              "</table>\n",
              "</div>"
            ],
            "text/plain": [
              "             Artist                  Song\n",
              "3016  Skylar Belice           Bad for You\n",
              "3017     The Script             Breakeven\n",
              "3018      Josephina             Dope Girl\n",
              "3019      Sam Smith  Too Good At Goodbyes\n",
              "3020   Ananya Birla     Let There Be Love"
            ]
          },
          "metadata": {
            "tags": []
          },
          "execution_count": 25
        }
      ]
    },
    {
      "cell_type": "code",
      "metadata": {
        "id": "T_Z-prDgJNQ4",
        "colab_type": "code",
        "colab": {
          "base_uri": "https://localhost:8080/",
          "height": 69
        },
        "outputId": "85f57d17-be74-4c72-c76a-f43904aa749c"
      },
      "source": [
        "df_title_love.isnull().sum()"
      ],
      "execution_count": null,
      "outputs": [
        {
          "output_type": "execute_result",
          "data": {
            "text/plain": [
              "Artist    0\n",
              "Song      0\n",
              "dtype: int64"
            ]
          },
          "metadata": {
            "tags": []
          },
          "execution_count": 11
        }
      ]
    },
    {
      "cell_type": "code",
      "metadata": {
        "id": "G6rvGWPbF6WU",
        "colab_type": "code",
        "colab": {}
      },
      "source": [
        "#Getting the song lyrics corresponding to the song name and artist name\n",
        "df_love = get_song_lyrics(df_title_love)"
      ],
      "execution_count": null,
      "outputs": []
    },
    {
      "cell_type": "code",
      "metadata": {
        "id": "9wy3pYRK0D-m",
        "colab_type": "code",
        "colab": {
          "base_uri": "https://localhost:8080/",
          "height": 87
        },
        "outputId": "bcfc10d9-de1e-4257-aa84-2f1dea2bc24c"
      },
      "source": [
        "df_love.isnull().sum()"
      ],
      "execution_count": null,
      "outputs": [
        {
          "output_type": "execute_result",
          "data": {
            "text/plain": [
              "Artist      0\n",
              "Song        0\n",
              "Lyrics    527\n",
              "dtype: int64"
            ]
          },
          "metadata": {
            "tags": []
          },
          "execution_count": 25
        }
      ]
    },
    {
      "cell_type": "code",
      "metadata": {
        "id": "37Kxcu7bMGFr",
        "colab_type": "code",
        "colab": {}
      },
      "source": [
        "df_love.dropna(axis=0,inplace=True)"
      ],
      "execution_count": null,
      "outputs": []
    },
    {
      "cell_type": "code",
      "metadata": {
        "id": "6kfZQmwdMSK1",
        "colab_type": "code",
        "colab": {
          "base_uri": "https://localhost:8080/",
          "height": 202
        },
        "outputId": "51e0d356-fdc1-4dca-8e3c-45d41eba7196"
      },
      "source": [
        "df_love.head()"
      ],
      "execution_count": null,
      "outputs": [
        {
          "output_type": "execute_result",
          "data": {
            "text/html": [
              "<div>\n",
              "<style scoped>\n",
              "    .dataframe tbody tr th:only-of-type {\n",
              "        vertical-align: middle;\n",
              "    }\n",
              "\n",
              "    .dataframe tbody tr th {\n",
              "        vertical-align: top;\n",
              "    }\n",
              "\n",
              "    .dataframe thead th {\n",
              "        text-align: right;\n",
              "    }\n",
              "</style>\n",
              "<table border=\"1\" class=\"dataframe\">\n",
              "  <thead>\n",
              "    <tr style=\"text-align: right;\">\n",
              "      <th></th>\n",
              "      <th>Artist</th>\n",
              "      <th>Song</th>\n",
              "      <th>Lyrics</th>\n",
              "    </tr>\n",
              "  </thead>\n",
              "  <tbody>\n",
              "    <tr>\n",
              "      <th>1</th>\n",
              "      <td>Dan + Shay</td>\n",
              "      <td>I Should Probably Go To Bed</td>\n",
              "      <td>All of my friends finally convinced me to get ...</td>\n",
              "    </tr>\n",
              "    <tr>\n",
              "      <th>2</th>\n",
              "      <td>Lost Frequencies</td>\n",
              "      <td>Don't Leave Me Now</td>\n",
              "      <td>Scene 08: Timber &amp; The Owls\\nScene 09: The TV ...</td>\n",
              "    </tr>\n",
              "    <tr>\n",
              "      <th>4</th>\n",
              "      <td>Joel Corry</td>\n",
              "      <td>Head &amp; Heart (feat. MNEK) - Acoustic</td>\n",
              "      <td>Oh my god, oh my god, this feeling's just begu...</td>\n",
              "    </tr>\n",
              "    <tr>\n",
              "      <th>5</th>\n",
              "      <td>MisterWives</td>\n",
              "      <td>3 small words</td>\n",
              "      <td>Your watch broke\\nAnd I hope that it stopped t...</td>\n",
              "    </tr>\n",
              "    <tr>\n",
              "      <th>6</th>\n",
              "      <td>Emily Burns</td>\n",
              "      <td>I Love You, You're The Worst</td>\n",
              "      <td>Do you string me along for the thrill?\\nKnock ...</td>\n",
              "    </tr>\n",
              "  </tbody>\n",
              "</table>\n",
              "</div>"
            ],
            "text/plain": [
              "             Artist  ...                                             Lyrics\n",
              "1        Dan + Shay  ...  All of my friends finally convinced me to get ...\n",
              "2  Lost Frequencies  ...  Scene 08: Timber & The Owls\\nScene 09: The TV ...\n",
              "4        Joel Corry  ...  Oh my god, oh my god, this feeling's just begu...\n",
              "5       MisterWives  ...  Your watch broke\\nAnd I hope that it stopped t...\n",
              "6       Emily Burns  ...  Do you string me along for the thrill?\\nKnock ...\n",
              "\n",
              "[5 rows x 3 columns]"
            ]
          },
          "metadata": {
            "tags": []
          },
          "execution_count": 30
        }
      ]
    },
    {
      "cell_type": "code",
      "metadata": {
        "id": "AZDj91YqLr4A",
        "colab_type": "code",
        "colab": {}
      },
      "source": [
        "df_love.to_csv('love_genre.csv')"
      ],
      "execution_count": null,
      "outputs": []
    },
    {
      "cell_type": "code",
      "metadata": {
        "id": "uS8eafCIqzaI",
        "colab_type": "code",
        "colab": {
          "base_uri": "https://localhost:8080/",
          "height": 52
        },
        "outputId": "b781212e-90e9-4ad1-a239-5e3ea973beca"
      },
      "source": [
        "#Getting the song names of genre 'Sad'\n",
        "df_title_sad = get_song_name('sad','playlist')"
      ],
      "execution_count": 13,
      "outputs": [
        {
          "output_type": "stream",
          "text": [
            "q=sad&type=playlist&limit=50\n",
            "Number of songs returned by the Spotify API of genre SAD  is 2855\n"
          ],
          "name": "stdout"
        }
      ]
    },
    {
      "cell_type": "code",
      "metadata": {
        "id": "qy0yKAzwrbMA",
        "colab_type": "code",
        "colab": {
          "base_uri": "https://localhost:8080/",
          "height": 1000
        },
        "outputId": "ea1954ec-ad4f-491e-d3f7-90671c60f2af"
      },
      "source": [
        "df_title_sad.head(34)"
      ],
      "execution_count": 14,
      "outputs": [
        {
          "output_type": "execute_result",
          "data": {
            "text/html": [
              "<div>\n",
              "<style scoped>\n",
              "    .dataframe tbody tr th:only-of-type {\n",
              "        vertical-align: middle;\n",
              "    }\n",
              "\n",
              "    .dataframe tbody tr th {\n",
              "        vertical-align: top;\n",
              "    }\n",
              "\n",
              "    .dataframe thead th {\n",
              "        text-align: right;\n",
              "    }\n",
              "</style>\n",
              "<table border=\"1\" class=\"dataframe\">\n",
              "  <thead>\n",
              "    <tr style=\"text-align: right;\">\n",
              "      <th></th>\n",
              "      <th>Artist</th>\n",
              "      <th>Song</th>\n",
              "    </tr>\n",
              "  </thead>\n",
              "  <tbody>\n",
              "    <tr>\n",
              "      <th>0</th>\n",
              "      <td>NF</td>\n",
              "      <td>Let You Down</td>\n",
              "    </tr>\n",
              "    <tr>\n",
              "      <th>1</th>\n",
              "      <td>Russ</td>\n",
              "      <td>Losin Control</td>\n",
              "    </tr>\n",
              "    <tr>\n",
              "      <th>2</th>\n",
              "      <td>Drake</td>\n",
              "      <td>Doing It Wrong</td>\n",
              "    </tr>\n",
              "    <tr>\n",
              "      <th>3</th>\n",
              "      <td>Khalid</td>\n",
              "      <td>Coaster</td>\n",
              "    </tr>\n",
              "    <tr>\n",
              "      <th>4</th>\n",
              "      <td>Logic</td>\n",
              "      <td>1-800-273-8255</td>\n",
              "    </tr>\n",
              "    <tr>\n",
              "      <th>5</th>\n",
              "      <td>James Arthur</td>\n",
              "      <td>Say You Won't Let Go</td>\n",
              "    </tr>\n",
              "    <tr>\n",
              "      <th>6</th>\n",
              "      <td>The Killers</td>\n",
              "      <td>Just Another Girl</td>\n",
              "    </tr>\n",
              "    <tr>\n",
              "      <th>7</th>\n",
              "      <td>Khalid</td>\n",
              "      <td>Reasons</td>\n",
              "    </tr>\n",
              "    <tr>\n",
              "      <th>8</th>\n",
              "      <td>The Weeknd</td>\n",
              "      <td>Die For You</td>\n",
              "    </tr>\n",
              "    <tr>\n",
              "      <th>9</th>\n",
              "      <td>G-Eazy</td>\n",
              "      <td>Think About You (feat. Quiñ)</td>\n",
              "    </tr>\n",
              "    <tr>\n",
              "      <th>10</th>\n",
              "      <td>Bruno Mars</td>\n",
              "      <td>Talking to the Moon</td>\n",
              "    </tr>\n",
              "    <tr>\n",
              "      <th>11</th>\n",
              "      <td>Bruno Mars</td>\n",
              "      <td>When I Was Your Man</td>\n",
              "    </tr>\n",
              "    <tr>\n",
              "      <th>12</th>\n",
              "      <td>Bruno Mars</td>\n",
              "      <td>It Will Rain</td>\n",
              "    </tr>\n",
              "    <tr>\n",
              "      <th>13</th>\n",
              "      <td>XXXTENTACION</td>\n",
              "      <td>Carry On</td>\n",
              "    </tr>\n",
              "    <tr>\n",
              "      <th>14</th>\n",
              "      <td>XXXTENTACION</td>\n",
              "      <td>Fuck Love (feat. Trippie Redd)</td>\n",
              "    </tr>\n",
              "    <tr>\n",
              "      <th>15</th>\n",
              "      <td>XXXTENTACION</td>\n",
              "      <td>Jocelyn Flores</td>\n",
              "    </tr>\n",
              "    <tr>\n",
              "      <th>16</th>\n",
              "      <td>XXXTENTACION</td>\n",
              "      <td>Everybody Dies In Their Nightmares</td>\n",
              "    </tr>\n",
              "    <tr>\n",
              "      <th>17</th>\n",
              "      <td>Joyner Lucas</td>\n",
              "      <td>I'm Sorry</td>\n",
              "    </tr>\n",
              "    <tr>\n",
              "      <th>18</th>\n",
              "      <td>Ed Sheeran</td>\n",
              "      <td>Happier</td>\n",
              "    </tr>\n",
              "    <tr>\n",
              "      <th>19</th>\n",
              "      <td>NF</td>\n",
              "      <td>How Could You Leave Us</td>\n",
              "    </tr>\n",
              "    <tr>\n",
              "      <th>20</th>\n",
              "      <td>Labrinth</td>\n",
              "      <td>Jealous</td>\n",
              "    </tr>\n",
              "    <tr>\n",
              "      <th>21</th>\n",
              "      <td>Lil Wayne</td>\n",
              "      <td>Mirror</td>\n",
              "    </tr>\n",
              "    <tr>\n",
              "      <th>22</th>\n",
              "      <td>Russ</td>\n",
              "      <td>Scared</td>\n",
              "    </tr>\n",
              "    <tr>\n",
              "      <th>23</th>\n",
              "      <td>Harry Styles</td>\n",
              "      <td>Sign of the Times</td>\n",
              "    </tr>\n",
              "    <tr>\n",
              "      <th>24</th>\n",
              "      <td>Post Malone</td>\n",
              "      <td>Feeling Whitney</td>\n",
              "    </tr>\n",
              "    <tr>\n",
              "      <th>25</th>\n",
              "      <td>Alextbh</td>\n",
              "      <td>Stoop So Low</td>\n",
              "    </tr>\n",
              "    <tr>\n",
              "      <th>26</th>\n",
              "      <td>PARTYNEXTDOOR</td>\n",
              "      <td>Come and See Me (feat. Drake)</td>\n",
              "    </tr>\n",
              "    <tr>\n",
              "      <th>27</th>\n",
              "      <td>Kendrick Lamar</td>\n",
              "      <td>LOVE. FEAT. ZACARI.</td>\n",
              "    </tr>\n",
              "    <tr>\n",
              "      <th>28</th>\n",
              "      <td>Russ</td>\n",
              "      <td>Psycho, Pt. 2</td>\n",
              "    </tr>\n",
              "    <tr>\n",
              "      <th>29</th>\n",
              "      <td>Hailee Steinfeld</td>\n",
              "      <td>Let Me Go (with Alesso, Florida Georgia Line &amp;...</td>\n",
              "    </tr>\n",
              "    <tr>\n",
              "      <th>30</th>\n",
              "      <td>SZA</td>\n",
              "      <td>Love Galore (feat. Travis Scott)</td>\n",
              "    </tr>\n",
              "    <tr>\n",
              "      <th>31</th>\n",
              "      <td>Post Malone</td>\n",
              "      <td>Leave</td>\n",
              "    </tr>\n",
              "    <tr>\n",
              "      <th>32</th>\n",
              "      <td>Russ</td>\n",
              "      <td>Ride Slow</td>\n",
              "    </tr>\n",
              "    <tr>\n",
              "      <th>33</th>\n",
              "      <td>Phora</td>\n",
              "      <td>Fake Smiles</td>\n",
              "    </tr>\n",
              "  </tbody>\n",
              "</table>\n",
              "</div>"
            ],
            "text/plain": [
              "              Artist                                               Song\n",
              "0                 NF                                       Let You Down\n",
              "1               Russ                                      Losin Control\n",
              "2              Drake                                     Doing It Wrong\n",
              "3             Khalid                                            Coaster\n",
              "4              Logic                                     1-800-273-8255\n",
              "5       James Arthur                               Say You Won't Let Go\n",
              "6        The Killers                                  Just Another Girl\n",
              "7             Khalid                                            Reasons\n",
              "8         The Weeknd                                        Die For You\n",
              "9             G-Eazy                       Think About You (feat. Quiñ)\n",
              "10        Bruno Mars                                Talking to the Moon\n",
              "11        Bruno Mars                                When I Was Your Man\n",
              "12        Bruno Mars                                       It Will Rain\n",
              "13      XXXTENTACION                                           Carry On\n",
              "14      XXXTENTACION                     Fuck Love (feat. Trippie Redd)\n",
              "15      XXXTENTACION                                     Jocelyn Flores\n",
              "16      XXXTENTACION                 Everybody Dies In Their Nightmares\n",
              "17      Joyner Lucas                                          I'm Sorry\n",
              "18        Ed Sheeran                                            Happier\n",
              "19                NF                             How Could You Leave Us\n",
              "20          Labrinth                                            Jealous\n",
              "21         Lil Wayne                                             Mirror\n",
              "22              Russ                                             Scared\n",
              "23      Harry Styles                                  Sign of the Times\n",
              "24       Post Malone                                    Feeling Whitney\n",
              "25           Alextbh                                       Stoop So Low\n",
              "26     PARTYNEXTDOOR                      Come and See Me (feat. Drake)\n",
              "27    Kendrick Lamar                                LOVE. FEAT. ZACARI.\n",
              "28              Russ                                      Psycho, Pt. 2\n",
              "29  Hailee Steinfeld  Let Me Go (with Alesso, Florida Georgia Line &...\n",
              "30               SZA                   Love Galore (feat. Travis Scott)\n",
              "31       Post Malone                                              Leave\n",
              "32              Russ                                          Ride Slow\n",
              "33             Phora                                        Fake Smiles"
            ]
          },
          "metadata": {
            "tags": []
          },
          "execution_count": 14
        }
      ]
    },
    {
      "cell_type": "code",
      "metadata": {
        "id": "oihKRM3c_G0W",
        "colab_type": "code",
        "colab": {}
      },
      "source": [
        "#Getting the song lyrics corresponding to the song name and artist name\n",
        "df_sad = get_song_lyrics(df_title_sad)"
      ],
      "execution_count": 16,
      "outputs": []
    },
    {
      "cell_type": "code",
      "metadata": {
        "id": "DjiFGUpdsiyy",
        "colab_type": "code",
        "colab": {
          "base_uri": "https://localhost:8080/",
          "height": 785
        },
        "outputId": "41863786-bb02-4f00-e537-597442040057"
      },
      "source": [
        "df_sad.head(24)"
      ],
      "execution_count": 17,
      "outputs": [
        {
          "output_type": "execute_result",
          "data": {
            "text/html": [
              "<div>\n",
              "<style scoped>\n",
              "    .dataframe tbody tr th:only-of-type {\n",
              "        vertical-align: middle;\n",
              "    }\n",
              "\n",
              "    .dataframe tbody tr th {\n",
              "        vertical-align: top;\n",
              "    }\n",
              "\n",
              "    .dataframe thead th {\n",
              "        text-align: right;\n",
              "    }\n",
              "</style>\n",
              "<table border=\"1\" class=\"dataframe\">\n",
              "  <thead>\n",
              "    <tr style=\"text-align: right;\">\n",
              "      <th></th>\n",
              "      <th>Artist</th>\n",
              "      <th>Song</th>\n",
              "      <th>Lyrics</th>\n",
              "    </tr>\n",
              "  </thead>\n",
              "  <tbody>\n",
              "    <tr>\n",
              "      <th>0</th>\n",
              "      <td>NF</td>\n",
              "      <td>Let You Down</td>\n",
              "      <td>Feels like we're on the edge right now\\nI wish...</td>\n",
              "    </tr>\n",
              "    <tr>\n",
              "      <th>1</th>\n",
              "      <td>Russ</td>\n",
              "      <td>Losin Control</td>\n",
              "      <td>She's falling in love now, losing control now\\...</td>\n",
              "    </tr>\n",
              "    <tr>\n",
              "      <th>2</th>\n",
              "      <td>Drake</td>\n",
              "      <td>Doing It Wrong</td>\n",
              "      <td>When a good thing goes bad it's not the end of...</td>\n",
              "    </tr>\n",
              "    <tr>\n",
              "      <th>3</th>\n",
              "      <td>Khalid</td>\n",
              "      <td>Coaster</td>\n",
              "      <td>As time passes, I feel so low\\nSearchin' for p...</td>\n",
              "    </tr>\n",
              "    <tr>\n",
              "      <th>4</th>\n",
              "      <td>Logic</td>\n",
              "      <td>1-800-273-8255</td>\n",
              "      <td>I've been on the low, I been taking my time\\nI...</td>\n",
              "    </tr>\n",
              "    <tr>\n",
              "      <th>5</th>\n",
              "      <td>James Arthur</td>\n",
              "      <td>Say You Won't Let Go</td>\n",
              "      <td>I met you in the dark\\nYou lit me up\\nYou made...</td>\n",
              "    </tr>\n",
              "    <tr>\n",
              "      <th>6</th>\n",
              "      <td>The Killers</td>\n",
              "      <td>Just Another Girl</td>\n",
              "      <td>Step out into the Indian dust\\nI can feel the ...</td>\n",
              "    </tr>\n",
              "    <tr>\n",
              "      <th>7</th>\n",
              "      <td>Khalid</td>\n",
              "      <td>Reasons</td>\n",
              "      <td>Evade my intellect\\nFeed into my introspect\\nW...</td>\n",
              "    </tr>\n",
              "    <tr>\n",
              "      <th>8</th>\n",
              "      <td>The Weeknd</td>\n",
              "      <td>Die For You</td>\n",
              "      <td>I'm findin' ways to articulate the feeling I'm...</td>\n",
              "    </tr>\n",
              "    <tr>\n",
              "      <th>9</th>\n",
              "      <td>G-Eazy</td>\n",
              "      <td>Think About You (feat. Quiñ)</td>\n",
              "      <td>'Cause I do\\n'Cause I do\\n'Cause I do\\nKeep wr...</td>\n",
              "    </tr>\n",
              "    <tr>\n",
              "      <th>10</th>\n",
              "      <td>Bruno Mars</td>\n",
              "      <td>Talking to the Moon</td>\n",
              "      <td>I know you're somewhere out there\\nSomewhere f...</td>\n",
              "    </tr>\n",
              "    <tr>\n",
              "      <th>11</th>\n",
              "      <td>Bruno Mars</td>\n",
              "      <td>When I Was Your Man</td>\n",
              "      <td>Same bed but it feels just a little bit bigger...</td>\n",
              "    </tr>\n",
              "    <tr>\n",
              "      <th>12</th>\n",
              "      <td>Bruno Mars</td>\n",
              "      <td>It Will Rain</td>\n",
              "      <td>If you ever leave me, baby\\nLeave some morphin...</td>\n",
              "    </tr>\n",
              "    <tr>\n",
              "      <th>13</th>\n",
              "      <td>XXXTENTACION</td>\n",
              "      <td>Carry On</td>\n",
              "      <td>How did you get here?\\nI'm drunk and confused\\...</td>\n",
              "    </tr>\n",
              "    <tr>\n",
              "      <th>14</th>\n",
              "      <td>XXXTENTACION</td>\n",
              "      <td>Fuck Love (feat. Trippie Redd)</td>\n",
              "      <td>NaN</td>\n",
              "    </tr>\n",
              "    <tr>\n",
              "      <th>15</th>\n",
              "      <td>XXXTENTACION</td>\n",
              "      <td>Jocelyn Flores</td>\n",
              "      <td>I know you so well, so well\\nI mean, I can do ...</td>\n",
              "    </tr>\n",
              "    <tr>\n",
              "      <th>16</th>\n",
              "      <td>XXXTENTACION</td>\n",
              "      <td>Everybody Dies In Their Nightmares</td>\n",
              "      <td>Ooh, ahh, ahh, ahh\\nDon't go, don't go to slee...</td>\n",
              "    </tr>\n",
              "    <tr>\n",
              "      <th>17</th>\n",
              "      <td>Joyner Lucas</td>\n",
              "      <td>I'm Sorry</td>\n",
              "      <td>Go ahead and call me a coward\\nSay that I'm no...</td>\n",
              "    </tr>\n",
              "    <tr>\n",
              "      <th>18</th>\n",
              "      <td>Ed Sheeran</td>\n",
              "      <td>Happier</td>\n",
              "      <td>Walking down 29th and park\\nI saw you in anoth...</td>\n",
              "    </tr>\n",
              "    <tr>\n",
              "      <th>19</th>\n",
              "      <td>NF</td>\n",
              "      <td>How Could You Leave Us</td>\n",
              "      <td>How could you leave so unexpected?\\nWe waited,...</td>\n",
              "    </tr>\n",
              "    <tr>\n",
              "      <th>20</th>\n",
              "      <td>Labrinth</td>\n",
              "      <td>Jealous</td>\n",
              "      <td>I'm jealous of the rain\\nThat falls upon your ...</td>\n",
              "    </tr>\n",
              "    <tr>\n",
              "      <th>21</th>\n",
              "      <td>Lil Wayne</td>\n",
              "      <td>Mirror</td>\n",
              "      <td>Uh, with everything happening today\\nYou don't...</td>\n",
              "    </tr>\n",
              "    <tr>\n",
              "      <th>22</th>\n",
              "      <td>Russ</td>\n",
              "      <td>Scared</td>\n",
              "      <td>Take my hand and rock it real slow\\nI wanna fe...</td>\n",
              "    </tr>\n",
              "    <tr>\n",
              "      <th>23</th>\n",
              "      <td>Harry Styles</td>\n",
              "      <td>Sign of the Times</td>\n",
              "      <td>Just stop your crying, it's a sign of the time...</td>\n",
              "    </tr>\n",
              "  </tbody>\n",
              "</table>\n",
              "</div>"
            ],
            "text/plain": [
              "          Artist  ...                                             Lyrics\n",
              "0             NF  ...  Feels like we're on the edge right now\\nI wish...\n",
              "1           Russ  ...  She's falling in love now, losing control now\\...\n",
              "2          Drake  ...  When a good thing goes bad it's not the end of...\n",
              "3         Khalid  ...  As time passes, I feel so low\\nSearchin' for p...\n",
              "4          Logic  ...  I've been on the low, I been taking my time\\nI...\n",
              "5   James Arthur  ...  I met you in the dark\\nYou lit me up\\nYou made...\n",
              "6    The Killers  ...  Step out into the Indian dust\\nI can feel the ...\n",
              "7         Khalid  ...  Evade my intellect\\nFeed into my introspect\\nW...\n",
              "8     The Weeknd  ...  I'm findin' ways to articulate the feeling I'm...\n",
              "9         G-Eazy  ...  'Cause I do\\n'Cause I do\\n'Cause I do\\nKeep wr...\n",
              "10    Bruno Mars  ...  I know you're somewhere out there\\nSomewhere f...\n",
              "11    Bruno Mars  ...  Same bed but it feels just a little bit bigger...\n",
              "12    Bruno Mars  ...  If you ever leave me, baby\\nLeave some morphin...\n",
              "13  XXXTENTACION  ...  How did you get here?\\nI'm drunk and confused\\...\n",
              "14  XXXTENTACION  ...                                                NaN\n",
              "15  XXXTENTACION  ...  I know you so well, so well\\nI mean, I can do ...\n",
              "16  XXXTENTACION  ...  Ooh, ahh, ahh, ahh\\nDon't go, don't go to slee...\n",
              "17  Joyner Lucas  ...  Go ahead and call me a coward\\nSay that I'm no...\n",
              "18    Ed Sheeran  ...  Walking down 29th and park\\nI saw you in anoth...\n",
              "19            NF  ...  How could you leave so unexpected?\\nWe waited,...\n",
              "20      Labrinth  ...  I'm jealous of the rain\\nThat falls upon your ...\n",
              "21     Lil Wayne  ...  Uh, with everything happening today\\nYou don't...\n",
              "22          Russ  ...  Take my hand and rock it real slow\\nI wanna fe...\n",
              "23  Harry Styles  ...  Just stop your crying, it's a sign of the time...\n",
              "\n",
              "[24 rows x 3 columns]"
            ]
          },
          "metadata": {
            "tags": []
          },
          "execution_count": 17
        }
      ]
    },
    {
      "cell_type": "code",
      "metadata": {
        "id": "KqREByJBsy76",
        "colab_type": "code",
        "colab": {
          "base_uri": "https://localhost:8080/",
          "height": 87
        },
        "outputId": "630e9fbd-7039-4960-b9e2-3408906731a2"
      },
      "source": [
        "df_sad.isnull().sum()"
      ],
      "execution_count": 19,
      "outputs": [
        {
          "output_type": "execute_result",
          "data": {
            "text/plain": [
              "Artist      0\n",
              "Song        0\n",
              "Lyrics    555\n",
              "dtype: int64"
            ]
          },
          "metadata": {
            "tags": []
          },
          "execution_count": 19
        }
      ]
    },
    {
      "cell_type": "code",
      "metadata": {
        "id": "7XQjd7H5B_N3",
        "colab_type": "code",
        "colab": {}
      },
      "source": [
        "df_sad.to_csv('sad_genre.csv')"
      ],
      "execution_count": 20,
      "outputs": []
    },
    {
      "cell_type": "code",
      "metadata": {
        "id": "0jGB1qrg0XNb",
        "colab_type": "code",
        "colab": {}
      },
      "source": [
        "import json\n",
        "\n",
        "with open('workout.json', 'w') as json_file:\n",
        "  json.dump(workout, json_file)"
      ],
      "execution_count": null,
      "outputs": []
    },
    {
      "cell_type": "code",
      "metadata": {
        "id": "hnH2-25lRViw",
        "colab_type": "code",
        "colab": {}
      },
      "source": [
        "import lyricsgenius\n",
        "genius = lyricsgenius.Genius('p2U70gp0xq5TWV10R8iJXI5uz4DjNseRup1FA63S8-3ZgQBOMyCneDzCew89BXVb')"
      ],
      "execution_count": null,
      "outputs": []
    },
    {
      "cell_type": "code",
      "metadata": {
        "id": "4VHglqUnWtV9",
        "colab_type": "code",
        "colab": {}
      },
      "source": [
        "pop = pd.DataFrame({'Artist':['Harry Styles','Bruno Mars','ffgf'],'Song':['Sign of the Times','Talking to the Moon','fdsd']})"
      ],
      "execution_count": null,
      "outputs": []
    }
  ]
}