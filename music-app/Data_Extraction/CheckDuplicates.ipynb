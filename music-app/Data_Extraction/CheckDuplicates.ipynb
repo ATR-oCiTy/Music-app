{
 "cells": [
  {
   "cell_type": "code",
   "execution_count": 41,
   "metadata": {},
   "outputs": [
    {
     "data": {
      "text/plain": [
       "'\\n\\nPython script to parse and delete duplicate records from\\nnew song records derived from secondary sources(here: Apple Music)\\n\\n'"
      ]
     },
     "execution_count": 41,
     "metadata": {},
     "output_type": "execute_result"
    }
   ],
   "source": [
    "'''\n",
    "\n",
    "Python script to parse and delete duplicate records from\n",
    "new song records derived from secondary sources(here: Apple Music)\n",
    "\n",
    "'''"
   ]
  },
  {
   "cell_type": "code",
   "execution_count": 49,
   "metadata": {},
   "outputs": [],
   "source": [
    "import pandas as pd\n",
    "import json"
   ]
  },
  {
   "cell_type": "code",
   "execution_count": 50,
   "metadata": {},
   "outputs": [],
   "source": [
    "def parse_new_songs(new_addr):\n",
    "    ''' Loads in secondary source tracks '''\n",
    "    with open(new_addr) as file:\n",
    "        l = json.load(file)\n",
    "    return pd.DataFrame(l)"
   ]
  },
  {
   "cell_type": "code",
   "execution_count": 51,
   "metadata": {},
   "outputs": [],
   "source": [
    "def parse_csv(old_addr):\n",
    "    ''' Loads in main song list '''\n",
    "    df = pd.read_csv(old_addr)\n",
    "    return df.drop(labels = [\"Unnamed: 0\", \"Lyrics\"], axis = 1)"
   ]
  },
  {
   "cell_type": "code",
   "execution_count": 52,
   "metadata": {},
   "outputs": [],
   "source": [
    "def drop_duplicates(df, orig):\n",
    "    ''' Iterates through new song list and removes duplicates if already present in original '''\n",
    "    for i in df.itertuples():\n",
    "        if i.song in [i for i in orig.Song]:\n",
    "            df.drop(labels = i.Index, inplace=True)\n",
    "    return df"
   ]
  },
  {
   "cell_type": "code",
   "execution_count": 53,
   "metadata": {},
   "outputs": [],
   "source": [
    "def write_csv(df, new_no_dupe_addr):\n",
    "    df.to_csv(new_no_dupe_addr, mode='a', header=False)"
   ]
  },
  {
   "cell_type": "code",
   "execution_count": 64,
   "metadata": {},
   "outputs": [],
   "source": [
    "def reset_index_after_append(new_no_dupe_addr):\n",
    "    ''' Resets indices of csv after multiple appends'''\n",
    "    df = pd.read_csv(new_no_dupe_addr)\n",
    "    df = df.reset_index(drop = True)\n",
    "    df.to_csv(new_no_dupe_addr)"
   ]
  },
  {
   "cell_type": "code",
   "execution_count": 68,
   "metadata": {},
   "outputs": [],
   "source": [
    "#File addresses\n",
    "new_addr = \"Sad/NewTracks/Sad100++.json\"\n",
    "old_addr = \"Sad/sad_genre.csv\"\n",
    "new_no_dupe_addr = \"Sad/sad_new.csv\""
   ]
  },
  {
   "cell_type": "code",
   "execution_count": 69,
   "metadata": {},
   "outputs": [],
   "source": [
    "new_tracks = parse_new_songs(new_addr)\n",
    "old_csv = parse_csv(old_addr)\n",
    "dropped_df = drop_duplicates(new_tracks, old_csv)\n",
    "dropped_df = dropped_df.reset_index(drop = True)\n",
    "write_csv(dropped_df, new_no_dupe_addr)"
   ]
  },
  {
   "cell_type": "code",
   "execution_count": 70,
   "metadata": {},
   "outputs": [],
   "source": [
    "#To be run only after running above code segment for all new track files of a certain genre\n",
    "reset_index_after_append(new_no_dupe_addr)"
   ]
  },
  {
   "cell_type": "code",
   "execution_count": null,
   "metadata": {},
   "outputs": [],
   "source": []
  }
 ],
 "metadata": {
  "kernelspec": {
   "display_name": "Python 3",
   "language": "python",
   "name": "python3"
  },
  "language_info": {
   "codemirror_mode": {
    "name": "ipython",
    "version": 3
   },
   "file_extension": ".py",
   "mimetype": "text/x-python",
   "name": "python",
   "nbconvert_exporter": "python",
   "pygments_lexer": "ipython3",
   "version": "3.6.10"
  }
 },
 "nbformat": 4,
 "nbformat_minor": 4
}
